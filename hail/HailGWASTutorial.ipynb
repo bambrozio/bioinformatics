{
 "cells": [
  {
   "cell_type": "markdown",
   "metadata": {},
   "source": [
    "# Genome-Wide Association Study using Hail\n",
    "By: [Bruno Ambrozio](https://about.me/bambrozio) - 18/08/2019\n",
    "> Credits/Kudos go for Hail, at [Docs > Hail Tutorials > GWAS Tutorial](https://hail.is/docs/0.2/tutorials/01-genome-wide-association-study.html)\n",
    "\n",
    "This notebook consolidates bullet points of the Hail Tutorial main contents.\n",
    "It aims to manipulate and query genetic dataset through a genome-wide SNP association test, and control for confounding caused by population stratification.\n",
    "\n",
    "## Preliminary\n",
    "* Initiate hail."
   ]
  },
  {
   "cell_type": "code",
   "execution_count": 1,
   "metadata": {},
   "outputs": [
    {
     "name": "stderr",
     "output_type": "stream",
     "text": [
      "Running on Apache Spark version 2.4.1\n",
      "SparkUI available at http://brunos-mbp.mul.ie.ibm.com:4040\n",
      "Welcome to\n",
      "     __  __     <>__\n",
      "    / /_/ /__  __/ /\n",
      "   / __  / _ `/ / /\n",
      "  /_/ /_/\\_,_/_/_/   version 0.2.25-04344d214361\n",
      "LOGGING: writing to /Users/bambrozi/workspace/github.com/bambrozio/bioinformatics/hail/hail-20191021-0926-0.2.25-04344d214361.log\n"
     ]
    }
   ],
   "source": [
    "import hail as hl\n",
    "hl.init()"
   ]
  },
  {
   "cell_type": "code",
   "execution_count": 2,
   "metadata": {},
   "outputs": [
    {
     "data": {
      "text/html": [
       "\n",
       "    <div class=\"bk-root\">\n",
       "        <a href=\"https://bokeh.pydata.org\" target=\"_blank\" class=\"bk-logo bk-logo-small bk-logo-notebook\"></a>\n",
       "        <span id=\"1001\">Loading BokehJS ...</span>\n",
       "    </div>"
      ]
     },
     "metadata": {},
     "output_type": "display_data"
    },
    {
     "data": {
      "application/javascript": [
       "\n",
       "(function(root) {\n",
       "  function now() {\n",
       "    return new Date();\n",
       "  }\n",
       "\n",
       "  var force = true;\n",
       "\n",
       "  if (typeof root._bokeh_onload_callbacks === \"undefined\" || force === true) {\n",
       "    root._bokeh_onload_callbacks = [];\n",
       "    root._bokeh_is_loading = undefined;\n",
       "  }\n",
       "\n",
       "  var JS_MIME_TYPE = 'application/javascript';\n",
       "  var HTML_MIME_TYPE = 'text/html';\n",
       "  var EXEC_MIME_TYPE = 'application/vnd.bokehjs_exec.v0+json';\n",
       "  var CLASS_NAME = 'output_bokeh rendered_html';\n",
       "\n",
       "  /**\n",
       "   * Render data to the DOM node\n",
       "   */\n",
       "  function render(props, node) {\n",
       "    var script = document.createElement(\"script\");\n",
       "    node.appendChild(script);\n",
       "  }\n",
       "\n",
       "  /**\n",
       "   * Handle when an output is cleared or removed\n",
       "   */\n",
       "  function handleClearOutput(event, handle) {\n",
       "    var cell = handle.cell;\n",
       "\n",
       "    var id = cell.output_area._bokeh_element_id;\n",
       "    var server_id = cell.output_area._bokeh_server_id;\n",
       "    // Clean up Bokeh references\n",
       "    if (id != null && id in Bokeh.index) {\n",
       "      Bokeh.index[id].model.document.clear();\n",
       "      delete Bokeh.index[id];\n",
       "    }\n",
       "\n",
       "    if (server_id !== undefined) {\n",
       "      // Clean up Bokeh references\n",
       "      var cmd = \"from bokeh.io.state import curstate; print(curstate().uuid_to_server['\" + server_id + \"'].get_sessions()[0].document.roots[0]._id)\";\n",
       "      cell.notebook.kernel.execute(cmd, {\n",
       "        iopub: {\n",
       "          output: function(msg) {\n",
       "            var id = msg.content.text.trim();\n",
       "            if (id in Bokeh.index) {\n",
       "              Bokeh.index[id].model.document.clear();\n",
       "              delete Bokeh.index[id];\n",
       "            }\n",
       "          }\n",
       "        }\n",
       "      });\n",
       "      // Destroy server and session\n",
       "      var cmd = \"import bokeh.io.notebook as ion; ion.destroy_server('\" + server_id + \"')\";\n",
       "      cell.notebook.kernel.execute(cmd);\n",
       "    }\n",
       "  }\n",
       "\n",
       "  /**\n",
       "   * Handle when a new output is added\n",
       "   */\n",
       "  function handleAddOutput(event, handle) {\n",
       "    var output_area = handle.output_area;\n",
       "    var output = handle.output;\n",
       "\n",
       "    // limit handleAddOutput to display_data with EXEC_MIME_TYPE content only\n",
       "    if ((output.output_type != \"display_data\") || (!output.data.hasOwnProperty(EXEC_MIME_TYPE))) {\n",
       "      return\n",
       "    }\n",
       "\n",
       "    var toinsert = output_area.element.find(\".\" + CLASS_NAME.split(' ')[0]);\n",
       "\n",
       "    if (output.metadata[EXEC_MIME_TYPE][\"id\"] !== undefined) {\n",
       "      toinsert[toinsert.length - 1].firstChild.textContent = output.data[JS_MIME_TYPE];\n",
       "      // store reference to embed id on output_area\n",
       "      output_area._bokeh_element_id = output.metadata[EXEC_MIME_TYPE][\"id\"];\n",
       "    }\n",
       "    if (output.metadata[EXEC_MIME_TYPE][\"server_id\"] !== undefined) {\n",
       "      var bk_div = document.createElement(\"div\");\n",
       "      bk_div.innerHTML = output.data[HTML_MIME_TYPE];\n",
       "      var script_attrs = bk_div.children[0].attributes;\n",
       "      for (var i = 0; i < script_attrs.length; i++) {\n",
       "        toinsert[toinsert.length - 1].firstChild.setAttribute(script_attrs[i].name, script_attrs[i].value);\n",
       "      }\n",
       "      // store reference to server id on output_area\n",
       "      output_area._bokeh_server_id = output.metadata[EXEC_MIME_TYPE][\"server_id\"];\n",
       "    }\n",
       "  }\n",
       "\n",
       "  function register_renderer(events, OutputArea) {\n",
       "\n",
       "    function append_mime(data, metadata, element) {\n",
       "      // create a DOM node to render to\n",
       "      var toinsert = this.create_output_subarea(\n",
       "        metadata,\n",
       "        CLASS_NAME,\n",
       "        EXEC_MIME_TYPE\n",
       "      );\n",
       "      this.keyboard_manager.register_events(toinsert);\n",
       "      // Render to node\n",
       "      var props = {data: data, metadata: metadata[EXEC_MIME_TYPE]};\n",
       "      render(props, toinsert[toinsert.length - 1]);\n",
       "      element.append(toinsert);\n",
       "      return toinsert\n",
       "    }\n",
       "\n",
       "    /* Handle when an output is cleared or removed */\n",
       "    events.on('clear_output.CodeCell', handleClearOutput);\n",
       "    events.on('delete.Cell', handleClearOutput);\n",
       "\n",
       "    /* Handle when a new output is added */\n",
       "    events.on('output_added.OutputArea', handleAddOutput);\n",
       "\n",
       "    /**\n",
       "     * Register the mime type and append_mime function with output_area\n",
       "     */\n",
       "    OutputArea.prototype.register_mime_type(EXEC_MIME_TYPE, append_mime, {\n",
       "      /* Is output safe? */\n",
       "      safe: true,\n",
       "      /* Index of renderer in `output_area.display_order` */\n",
       "      index: 0\n",
       "    });\n",
       "  }\n",
       "\n",
       "  // register the mime type if in Jupyter Notebook environment and previously unregistered\n",
       "  if (root.Jupyter !== undefined) {\n",
       "    var events = require('base/js/events');\n",
       "    var OutputArea = require('notebook/js/outputarea').OutputArea;\n",
       "\n",
       "    if (OutputArea.prototype.mime_types().indexOf(EXEC_MIME_TYPE) == -1) {\n",
       "      register_renderer(events, OutputArea);\n",
       "    }\n",
       "  }\n",
       "\n",
       "  \n",
       "  if (typeof (root._bokeh_timeout) === \"undefined\" || force === true) {\n",
       "    root._bokeh_timeout = Date.now() + 5000;\n",
       "    root._bokeh_failed_load = false;\n",
       "  }\n",
       "\n",
       "  var NB_LOAD_WARNING = {'data': {'text/html':\n",
       "     \"<div style='background-color: #fdd'>\\n\"+\n",
       "     \"<p>\\n\"+\n",
       "     \"BokehJS does not appear to have successfully loaded. If loading BokehJS from CDN, this \\n\"+\n",
       "     \"may be due to a slow or bad network connection. Possible fixes:\\n\"+\n",
       "     \"</p>\\n\"+\n",
       "     \"<ul>\\n\"+\n",
       "     \"<li>re-rerun `output_notebook()` to attempt to load from CDN again, or</li>\\n\"+\n",
       "     \"<li>use INLINE resources instead, as so:</li>\\n\"+\n",
       "     \"</ul>\\n\"+\n",
       "     \"<code>\\n\"+\n",
       "     \"from bokeh.resources import INLINE\\n\"+\n",
       "     \"output_notebook(resources=INLINE)\\n\"+\n",
       "     \"</code>\\n\"+\n",
       "     \"</div>\"}};\n",
       "\n",
       "  function display_loaded() {\n",
       "    var el = document.getElementById(\"1001\");\n",
       "    if (el != null) {\n",
       "      el.textContent = \"BokehJS is loading...\";\n",
       "    }\n",
       "    if (root.Bokeh !== undefined) {\n",
       "      if (el != null) {\n",
       "        el.textContent = \"BokehJS \" + root.Bokeh.version + \" successfully loaded.\";\n",
       "      }\n",
       "    } else if (Date.now() < root._bokeh_timeout) {\n",
       "      setTimeout(display_loaded, 100)\n",
       "    }\n",
       "  }\n",
       "\n",
       "\n",
       "  function run_callbacks() {\n",
       "    try {\n",
       "      root._bokeh_onload_callbacks.forEach(function(callback) {\n",
       "        if (callback != null)\n",
       "          callback();\n",
       "      });\n",
       "    } finally {\n",
       "      delete root._bokeh_onload_callbacks\n",
       "    }\n",
       "    console.debug(\"Bokeh: all callbacks have finished\");\n",
       "  }\n",
       "\n",
       "  function load_libs(css_urls, js_urls, callback) {\n",
       "    if (css_urls == null) css_urls = [];\n",
       "    if (js_urls == null) js_urls = [];\n",
       "\n",
       "    root._bokeh_onload_callbacks.push(callback);\n",
       "    if (root._bokeh_is_loading > 0) {\n",
       "      console.debug(\"Bokeh: BokehJS is being loaded, scheduling callback at\", now());\n",
       "      return null;\n",
       "    }\n",
       "    if (js_urls == null || js_urls.length === 0) {\n",
       "      run_callbacks();\n",
       "      return null;\n",
       "    }\n",
       "    console.debug(\"Bokeh: BokehJS not loaded, scheduling load and callback at\", now());\n",
       "    root._bokeh_is_loading = css_urls.length + js_urls.length;\n",
       "\n",
       "    function on_load() {\n",
       "      root._bokeh_is_loading--;\n",
       "      if (root._bokeh_is_loading === 0) {\n",
       "        console.debug(\"Bokeh: all BokehJS libraries/stylesheets loaded\");\n",
       "        run_callbacks()\n",
       "      }\n",
       "    }\n",
       "\n",
       "    function on_error() {\n",
       "      console.error(\"failed to load \" + url);\n",
       "    }\n",
       "\n",
       "    for (var i = 0; i < css_urls.length; i++) {\n",
       "      var url = css_urls[i];\n",
       "      const element = document.createElement(\"link\");\n",
       "      element.onload = on_load;\n",
       "      element.onerror = on_error;\n",
       "      element.rel = \"stylesheet\";\n",
       "      element.type = \"text/css\";\n",
       "      element.href = url;\n",
       "      console.debug(\"Bokeh: injecting link tag for BokehJS stylesheet: \", url);\n",
       "      document.body.appendChild(element);\n",
       "    }\n",
       "\n",
       "    for (var i = 0; i < js_urls.length; i++) {\n",
       "      var url = js_urls[i];\n",
       "      var element = document.createElement('script');\n",
       "      element.onload = on_load;\n",
       "      element.onerror = on_error;\n",
       "      element.async = false;\n",
       "      element.src = url;\n",
       "      console.debug(\"Bokeh: injecting script tag for BokehJS library: \", url);\n",
       "      document.head.appendChild(element);\n",
       "    }\n",
       "  };var element = document.getElementById(\"1001\");\n",
       "  if (element == null) {\n",
       "    console.error(\"Bokeh: ERROR: autoload.js configured with elementid '1001' but no matching script tag was found. \")\n",
       "    return false;\n",
       "  }\n",
       "\n",
       "  function inject_raw_css(css) {\n",
       "    const element = document.createElement(\"style\");\n",
       "    element.appendChild(document.createTextNode(css));\n",
       "    document.body.appendChild(element);\n",
       "  }\n",
       "\n",
       "  var js_urls = [\"https://cdn.pydata.org/bokeh/release/bokeh-1.2.0.min.js\", \"https://cdn.pydata.org/bokeh/release/bokeh-widgets-1.2.0.min.js\", \"https://cdn.pydata.org/bokeh/release/bokeh-tables-1.2.0.min.js\", \"https://cdn.pydata.org/bokeh/release/bokeh-gl-1.2.0.min.js\"];\n",
       "  var css_urls = [\"https://cdn.pydata.org/bokeh/release/bokeh-1.2.0.min.css\", \"https://cdn.pydata.org/bokeh/release/bokeh-widgets-1.2.0.min.css\", \"https://cdn.pydata.org/bokeh/release/bokeh-tables-1.2.0.min.css\"];\n",
       "\n",
       "  var inline_js = [\n",
       "    function(Bokeh) {\n",
       "      Bokeh.set_log_level(\"info\");\n",
       "    },\n",
       "    \n",
       "    function(Bokeh) {\n",
       "      \n",
       "    },\n",
       "    function(Bokeh) {} // ensure no trailing comma for IE\n",
       "  ];\n",
       "\n",
       "  function run_inline_js() {\n",
       "    \n",
       "    if ((root.Bokeh !== undefined) || (force === true)) {\n",
       "      for (var i = 0; i < inline_js.length; i++) {\n",
       "        inline_js[i].call(root, root.Bokeh);\n",
       "      }if (force === true) {\n",
       "        display_loaded();\n",
       "      }} else if (Date.now() < root._bokeh_timeout) {\n",
       "      setTimeout(run_inline_js, 100);\n",
       "    } else if (!root._bokeh_failed_load) {\n",
       "      console.log(\"Bokeh: BokehJS failed to load within specified timeout.\");\n",
       "      root._bokeh_failed_load = true;\n",
       "    } else if (force !== true) {\n",
       "      var cell = $(document.getElementById(\"1001\")).parents('.cell').data().cell;\n",
       "      cell.output_area.append_execute_result(NB_LOAD_WARNING)\n",
       "    }\n",
       "\n",
       "  }\n",
       "\n",
       "  if (root._bokeh_is_loading === 0) {\n",
       "    console.debug(\"Bokeh: BokehJS loaded, going straight to plotting\");\n",
       "    run_inline_js();\n",
       "  } else {\n",
       "    load_libs(css_urls, js_urls, function() {\n",
       "      console.debug(\"Bokeh: BokehJS plotting callback run at\", now());\n",
       "      run_inline_js();\n",
       "    });\n",
       "  }\n",
       "}(window));"
      ],
      "application/vnd.bokehjs_load.v0+json": "\n(function(root) {\n  function now() {\n    return new Date();\n  }\n\n  var force = true;\n\n  if (typeof root._bokeh_onload_callbacks === \"undefined\" || force === true) {\n    root._bokeh_onload_callbacks = [];\n    root._bokeh_is_loading = undefined;\n  }\n\n  \n\n  \n  if (typeof (root._bokeh_timeout) === \"undefined\" || force === true) {\n    root._bokeh_timeout = Date.now() + 5000;\n    root._bokeh_failed_load = false;\n  }\n\n  var NB_LOAD_WARNING = {'data': {'text/html':\n     \"<div style='background-color: #fdd'>\\n\"+\n     \"<p>\\n\"+\n     \"BokehJS does not appear to have successfully loaded. If loading BokehJS from CDN, this \\n\"+\n     \"may be due to a slow or bad network connection. Possible fixes:\\n\"+\n     \"</p>\\n\"+\n     \"<ul>\\n\"+\n     \"<li>re-rerun `output_notebook()` to attempt to load from CDN again, or</li>\\n\"+\n     \"<li>use INLINE resources instead, as so:</li>\\n\"+\n     \"</ul>\\n\"+\n     \"<code>\\n\"+\n     \"from bokeh.resources import INLINE\\n\"+\n     \"output_notebook(resources=INLINE)\\n\"+\n     \"</code>\\n\"+\n     \"</div>\"}};\n\n  function display_loaded() {\n    var el = document.getElementById(\"1001\");\n    if (el != null) {\n      el.textContent = \"BokehJS is loading...\";\n    }\n    if (root.Bokeh !== undefined) {\n      if (el != null) {\n        el.textContent = \"BokehJS \" + root.Bokeh.version + \" successfully loaded.\";\n      }\n    } else if (Date.now() < root._bokeh_timeout) {\n      setTimeout(display_loaded, 100)\n    }\n  }\n\n\n  function run_callbacks() {\n    try {\n      root._bokeh_onload_callbacks.forEach(function(callback) {\n        if (callback != null)\n          callback();\n      });\n    } finally {\n      delete root._bokeh_onload_callbacks\n    }\n    console.debug(\"Bokeh: all callbacks have finished\");\n  }\n\n  function load_libs(css_urls, js_urls, callback) {\n    if (css_urls == null) css_urls = [];\n    if (js_urls == null) js_urls = [];\n\n    root._bokeh_onload_callbacks.push(callback);\n    if (root._bokeh_is_loading > 0) {\n      console.debug(\"Bokeh: BokehJS is being loaded, scheduling callback at\", now());\n      return null;\n    }\n    if (js_urls == null || js_urls.length === 0) {\n      run_callbacks();\n      return null;\n    }\n    console.debug(\"Bokeh: BokehJS not loaded, scheduling load and callback at\", now());\n    root._bokeh_is_loading = css_urls.length + js_urls.length;\n\n    function on_load() {\n      root._bokeh_is_loading--;\n      if (root._bokeh_is_loading === 0) {\n        console.debug(\"Bokeh: all BokehJS libraries/stylesheets loaded\");\n        run_callbacks()\n      }\n    }\n\n    function on_error() {\n      console.error(\"failed to load \" + url);\n    }\n\n    for (var i = 0; i < css_urls.length; i++) {\n      var url = css_urls[i];\n      const element = document.createElement(\"link\");\n      element.onload = on_load;\n      element.onerror = on_error;\n      element.rel = \"stylesheet\";\n      element.type = \"text/css\";\n      element.href = url;\n      console.debug(\"Bokeh: injecting link tag for BokehJS stylesheet: \", url);\n      document.body.appendChild(element);\n    }\n\n    for (var i = 0; i < js_urls.length; i++) {\n      var url = js_urls[i];\n      var element = document.createElement('script');\n      element.onload = on_load;\n      element.onerror = on_error;\n      element.async = false;\n      element.src = url;\n      console.debug(\"Bokeh: injecting script tag for BokehJS library: \", url);\n      document.head.appendChild(element);\n    }\n  };var element = document.getElementById(\"1001\");\n  if (element == null) {\n    console.error(\"Bokeh: ERROR: autoload.js configured with elementid '1001' but no matching script tag was found. \")\n    return false;\n  }\n\n  function inject_raw_css(css) {\n    const element = document.createElement(\"style\");\n    element.appendChild(document.createTextNode(css));\n    document.body.appendChild(element);\n  }\n\n  var js_urls = [\"https://cdn.pydata.org/bokeh/release/bokeh-1.2.0.min.js\", \"https://cdn.pydata.org/bokeh/release/bokeh-widgets-1.2.0.min.js\", \"https://cdn.pydata.org/bokeh/release/bokeh-tables-1.2.0.min.js\", \"https://cdn.pydata.org/bokeh/release/bokeh-gl-1.2.0.min.js\"];\n  var css_urls = [\"https://cdn.pydata.org/bokeh/release/bokeh-1.2.0.min.css\", \"https://cdn.pydata.org/bokeh/release/bokeh-widgets-1.2.0.min.css\", \"https://cdn.pydata.org/bokeh/release/bokeh-tables-1.2.0.min.css\"];\n\n  var inline_js = [\n    function(Bokeh) {\n      Bokeh.set_log_level(\"info\");\n    },\n    \n    function(Bokeh) {\n      \n    },\n    function(Bokeh) {} // ensure no trailing comma for IE\n  ];\n\n  function run_inline_js() {\n    \n    if ((root.Bokeh !== undefined) || (force === true)) {\n      for (var i = 0; i < inline_js.length; i++) {\n        inline_js[i].call(root, root.Bokeh);\n      }if (force === true) {\n        display_loaded();\n      }} else if (Date.now() < root._bokeh_timeout) {\n      setTimeout(run_inline_js, 100);\n    } else if (!root._bokeh_failed_load) {\n      console.log(\"Bokeh: BokehJS failed to load within specified timeout.\");\n      root._bokeh_failed_load = true;\n    } else if (force !== true) {\n      var cell = $(document.getElementById(\"1001\")).parents('.cell').data().cell;\n      cell.output_area.append_execute_result(NB_LOAD_WARNING)\n    }\n\n  }\n\n  if (root._bokeh_is_loading === 0) {\n    console.debug(\"Bokeh: BokehJS loaded, going straight to plotting\");\n    run_inline_js();\n  } else {\n    load_libs(css_urls, js_urls, function() {\n      console.debug(\"Bokeh: BokehJS plotting callback run at\", now());\n      run_inline_js();\n    });\n  }\n}(window));"
     },
     "metadata": {},
     "output_type": "display_data"
    }
   ],
   "source": [
    "# Libs\n",
    "from hail.plot import show\n",
    "from pprint import pprint\n",
    "hl.plot.output_notebook()"
   ]
  },
  {
   "cell_type": "code",
   "execution_count": 3,
   "metadata": {},
   "outputs": [
    {
     "name": "stderr",
     "output_type": "stream",
     "text": [
      "2019-10-21 09:27:01 Hail: INFO: 1KG files found\n"
     ]
    }
   ],
   "source": [
    "# 1000 Genomes data sample as the dataset\n",
    "hl.utils.get_1kg('~/Download/hail-gwas-data/')"
   ]
  },
  {
   "cell_type": "markdown",
   "metadata": {},
   "source": [
    "* Importing data from VCF (The data in a VCF file is naturally represented as a Hail MatrixTable.)\n",
    "\n"
   ]
  },
  {
   "cell_type": "code",
   "execution_count": 4,
   "metadata": {},
   "outputs": [
    {
     "name": "stderr",
     "output_type": "stream",
     "text": [
      "2019-10-21 09:27:05 Hail: INFO: Coerced sorted dataset\n",
      "2019-10-21 09:27:08 Hail: INFO: wrote matrix table with 10961 rows and 284 columns in 2 partitions to data/1kg.mt\n"
     ]
    }
   ],
   "source": [
    "hl.import_vcf('~/Download/hail-gwas-data/1kg.vcf.bgz').write('data/1kg.mt', overwrite=True)"
   ]
  },
  {
   "cell_type": "code",
   "execution_count": 5,
   "metadata": {},
   "outputs": [],
   "source": [
    "mt = hl.read_matrix_table('data/1kg.mt')"
   ]
  },
  {
   "cell_type": "markdown",
   "metadata": {},
   "source": [
    "* Data overview"
   ]
  },
  {
   "cell_type": "code",
   "execution_count": 6,
   "metadata": {},
   "outputs": [
    {
     "data": {
      "text/html": [
       "<table><thead style=\"font-weight: bold;\"><tr><td>locus</td><td>alleles</td></tr>\n",
       "<tr><td>locus&lt;GRCh37&gt;</td><td>array&lt;str&gt;</td></tr>\n",
       "</thead><tbody><tr><td>1:904165</td><td>[&quot;G&quot;,&quot;A&quot;]</td></tr>\n",
       "<tr><td>1:909917</td><td>[&quot;G&quot;,&quot;A&quot;]</td></tr>\n",
       "<tr><td>1:986963</td><td>[&quot;C&quot;,&quot;T&quot;]</td></tr>\n",
       "<tr><td>1:1563691</td><td>[&quot;T&quot;,&quot;G&quot;]</td></tr>\n",
       "<tr><td>1:1707740</td><td>[&quot;T&quot;,&quot;G&quot;]</td></tr>\n",
       "</tbody></table><p style=\"background: #fdd; padding: 0.4em;\">showing top 5 rows</p>\n"
      ],
      "text/plain": [
       "+---------------+------------+\n",
       "| locus         | alleles    |\n",
       "+---------------+------------+\n",
       "| locus<GRCh37> | array<str> |\n",
       "+---------------+------------+\n",
       "| 1:904165      | [\"G\",\"A\"]  |\n",
       "| 1:909917      | [\"G\",\"A\"]  |\n",
       "| 1:986963      | [\"C\",\"T\"]  |\n",
       "| 1:1563691     | [\"T\",\"G\"]  |\n",
       "| 1:1707740     | [\"T\",\"G\"]  |\n",
       "+---------------+------------+\n",
       "showing top 5 rows"
      ]
     },
     "metadata": {},
     "output_type": "display_data"
    }
   ],
   "source": [
    "mt.rows().select().show(5)"
   ]
  },
  {
   "cell_type": "code",
   "execution_count": 7,
   "metadata": {},
   "outputs": [
    {
     "data": {
      "text/html": [
       "<table><thead style=\"font-weight: bold;\"><tr><td>locus</td><td>alleles</td></tr>\n",
       "<tr><td>locus&lt;GRCh37&gt;</td><td>array&lt;str&gt;</td></tr>\n",
       "</thead><tbody><tr><td>1:904165</td><td>[&quot;G&quot;,&quot;A&quot;]</td></tr>\n",
       "<tr><td>1:909917</td><td>[&quot;G&quot;,&quot;A&quot;]</td></tr>\n",
       "<tr><td>1:986963</td><td>[&quot;C&quot;,&quot;T&quot;]</td></tr>\n",
       "<tr><td>1:1563691</td><td>[&quot;T&quot;,&quot;G&quot;]</td></tr>\n",
       "<tr><td>1:1707740</td><td>[&quot;T&quot;,&quot;G&quot;]</td></tr>\n",
       "</tbody></table><p style=\"background: #fdd; padding: 0.4em;\">showing top 5 rows</p>\n"
      ],
      "text/plain": [
       "+---------------+------------+\n",
       "| locus         | alleles    |\n",
       "+---------------+------------+\n",
       "| locus<GRCh37> | array<str> |\n",
       "+---------------+------------+\n",
       "| 1:904165      | [\"G\",\"A\"]  |\n",
       "| 1:909917      | [\"G\",\"A\"]  |\n",
       "| 1:986963      | [\"C\",\"T\"]  |\n",
       "| 1:1563691     | [\"T\",\"G\"]  |\n",
       "| 1:1707740     | [\"T\",\"G\"]  |\n",
       "+---------------+------------+\n",
       "showing top 5 rows"
      ]
     },
     "metadata": {},
     "output_type": "display_data"
    }
   ],
   "source": [
    "mt.row_key.show(5)"
   ]
  },
  {
   "cell_type": "code",
   "execution_count": 8,
   "metadata": {},
   "outputs": [
    {
     "data": {
      "text/html": [
       "<table><thead style=\"font-weight: bold;\"><tr><td>s</td></tr>\n",
       "<tr><td>str</td></tr>\n",
       "</thead><tbody><tr><td>&quot;HG00096&quot;</td></tr>\n",
       "<tr><td>&quot;HG00099&quot;</td></tr>\n",
       "<tr><td>&quot;HG00105&quot;</td></tr>\n",
       "<tr><td>&quot;HG00118&quot;</td></tr>\n",
       "<tr><td>&quot;HG00129&quot;</td></tr>\n",
       "</tbody></table><p style=\"background: #fdd; padding: 0.4em;\">showing top 5 rows</p>\n"
      ],
      "text/plain": [
       "+-----------+\n",
       "| s         |\n",
       "+-----------+\n",
       "| str       |\n",
       "+-----------+\n",
       "| \"HG00096\" |\n",
       "| \"HG00099\" |\n",
       "| \"HG00105\" |\n",
       "| \"HG00118\" |\n",
       "| \"HG00129\" |\n",
       "+-----------+\n",
       "showing top 5 rows"
      ]
     },
     "metadata": {},
     "output_type": "display_data"
    }
   ],
   "source": [
    "# Peek at the first few sample IDs:\n",
    "mt.s.show(5)"
   ]
  },
  {
   "cell_type": "code",
   "execution_count": 9,
   "metadata": {},
   "outputs": [
    {
     "data": {
      "text/plain": [
       "[Struct(GT=Call(alleles=[0, 0], phased=False), AD=[4, 0], DP=4, GQ=12, PL=[0, 12, 147]),\n",
       " Struct(GT=Call(alleles=[0, 0], phased=False), AD=[8, 0], DP=8, GQ=24, PL=[0, 24, 315]),\n",
       " Struct(GT=Call(alleles=[0, 0], phased=False), AD=[8, 0], DP=8, GQ=23, PL=[0, 23, 230]),\n",
       " Struct(GT=Call(alleles=[0, 0], phased=False), AD=[7, 0], DP=7, GQ=21, PL=[0, 21, 270]),\n",
       " Struct(GT=Call(alleles=[0, 0], phased=False), AD=[5, 0], DP=5, GQ=15, PL=[0, 15, 205])]"
      ]
     },
     "execution_count": 9,
     "metadata": {},
     "output_type": "execute_result"
    }
   ],
   "source": [
    "mt.entry.take(5)"
   ]
  },
  {
   "cell_type": "code",
   "execution_count": 10,
   "metadata": {},
   "outputs": [
    {
     "data": {
      "text/html": [
       "<table><thead style=\"font-weight: bold;\"><tr><td>locus</td><td>alleles</td><td>HG00096.GT</td><td>HG00096.AD</td><td>HG00096.DP</td><td>HG00096.GQ</td><td>HG00096.PL</td><td>HG00099.GT</td><td>HG00099.AD</td><td>HG00099.DP</td><td>HG00099.GQ</td><td>HG00099.PL</td><td>HG00105.GT</td><td>HG00105.AD</td><td>HG00105.DP</td><td>HG00105.GQ</td><td>HG00105.PL</td></tr>\n",
       "<tr><td>locus&lt;GRCh37&gt;</td><td>array&lt;str&gt;</td><td>call</td><td>array&lt;int32&gt;</td><td>int32</td><td>int32</td><td>array&lt;int32&gt;</td><td>call</td><td>array&lt;int32&gt;</td><td>int32</td><td>int32</td><td>array&lt;int32&gt;</td><td>call</td><td>array&lt;int32&gt;</td><td>int32</td><td>int32</td><td>array&lt;int32&gt;</td></tr>\n",
       "</thead><tbody><tr><td>1:904165</td><td>[&quot;G&quot;,&quot;A&quot;]</td><td>0/0</td><td>[4,0]</td><td>4</td><td>12</td><td>[0,12,147]</td><td>0/0</td><td>[8,0]</td><td>8</td><td>24</td><td>[0,24,315]</td><td>0/0</td><td>[8,0]</td><td>8</td><td>23</td><td>[0,23,230]</td></tr>\n",
       "<tr><td>1:909917</td><td>[&quot;G&quot;,&quot;A&quot;]</td><td>0/0</td><td>[4,0]</td><td>4</td><td>12</td><td>[0,12,160]</td><td>0/0</td><td>[8,0]</td><td>8</td><td>24</td><td>[0,24,253]</td><td>0/0</td><td>[5,0]</td><td>5</td><td>15</td><td>[0,15,198]</td></tr>\n",
       "<tr><td>1:986963</td><td>[&quot;C&quot;,&quot;T&quot;]</td><td>0/0</td><td>[3,0]</td><td>3</td><td>9</td><td>[0,9,98]</td><td>0/0</td><td>[1,0]</td><td>1</td><td>3</td><td>[0,3,34]</td><td>0/0</td><td>[1,0]</td><td>1</td><td>3</td><td>[0,3,42]</td></tr>\n",
       "<tr><td>1:1563691</td><td>[&quot;T&quot;,&quot;G&quot;]</td><td>NA</td><td>NA</td><td>NA</td><td>NA</td><td>NA</td><td>0/0</td><td>[2,0]</td><td>2</td><td>6</td><td>[0,6,77]</td><td>0/0</td><td>[2,0]</td><td>2</td><td>4</td><td>[0,4,9]</td></tr>\n",
       "<tr><td>1:1707740</td><td>[&quot;T&quot;,&quot;G&quot;]</td><td>0/1</td><td>[2,3]</td><td>5</td><td>67</td><td>[82,0,67]</td><td>0/1</td><td>[4,2]</td><td>6</td><td>63</td><td>[63,0,146]</td><td>0/1</td><td>[2,5]</td><td>7</td><td>57</td><td>[138,0,57]</td></tr>\n",
       "</tbody></table><p style=\"background: #fdd; padding: 0.4em;\">showing top 5 rows</p>\n",
       "<p style=\"background: #fdd; padding: 0.4em;\">showing the first 3 of 284 columns</p>\n"
      ],
      "text/plain": [
       "+---------------+------------+------------+--------------+------------+------------+--------------+------------+--------------+------------+------------+--------------+------------+--------------+------------+------------+\n",
       "| locus         | alleles    | HG00096.GT | HG00096.AD   | HG00096.DP | HG00096.GQ | HG00096.PL   | HG00099.GT | HG00099.AD   | HG00099.DP | HG00099.GQ | HG00099.PL   | HG00105.GT | HG00105.AD   | HG00105.DP | HG00105.GQ |\n",
       "+---------------+------------+------------+--------------+------------+------------+--------------+------------+--------------+------------+------------+--------------+------------+--------------+------------+------------+\n",
       "| locus<GRCh37> | array<str> | call       | array<int32> |      int32 |      int32 | array<int32> | call       | array<int32> |      int32 |      int32 | array<int32> | call       | array<int32> |      int32 |      int32 |\n",
       "+---------------+------------+------------+--------------+------------+------------+--------------+------------+--------------+------------+------------+--------------+------------+--------------+------------+------------+\n",
       "| 1:904165      | [\"G\",\"A\"]  | 0/0        | [4,0]        |          4 |         12 | [0,12,147]   | 0/0        | [8,0]        |          8 |         24 | [0,24,315]   | 0/0        | [8,0]        |          8 |         23 |\n",
       "| 1:909917      | [\"G\",\"A\"]  | 0/0        | [4,0]        |          4 |         12 | [0,12,160]   | 0/0        | [8,0]        |          8 |         24 | [0,24,253]   | 0/0        | [5,0]        |          5 |         15 |\n",
       "| 1:986963      | [\"C\",\"T\"]  | 0/0        | [3,0]        |          3 |          9 | [0,9,98]     | 0/0        | [1,0]        |          1 |          3 | [0,3,34]     | 0/0        | [1,0]        |          1 |          3 |\n",
       "| 1:1563691     | [\"T\",\"G\"]  | NA         | NA           |         NA |         NA | NA           | 0/0        | [2,0]        |          2 |          6 | [0,6,77]     | 0/0        | [2,0]        |          2 |          4 |\n",
       "| 1:1707740     | [\"T\",\"G\"]  | 0/1        | [2,3]        |          5 |         67 | [82,0,67]    | 0/1        | [4,2]        |          6 |         63 | [63,0,146]   | 0/1        | [2,5]        |          7 |         57 |\n",
       "+---------------+------------+------------+--------------+------------+------------+--------------+------------+--------------+------------+------------+--------------+------------+--------------+------------+------------+\n",
       "\n",
       "+--------------+\n",
       "| HG00105.PL   |\n",
       "+--------------+\n",
       "| array<int32> |\n",
       "+--------------+\n",
       "| [0,23,230]   |\n",
       "| [0,15,198]   |\n",
       "| [0,3,42]     |\n",
       "| [0,4,9]      |\n",
       "| [138,0,57]   |\n",
       "+--------------+\n",
       "showing top 5 rows\n",
       "showing the first 3 of 284 columns"
      ]
     },
     "metadata": {},
     "output_type": "display_data"
    }
   ],
   "source": [
    "mt.entry.show(5)"
   ]
  },
  {
   "cell_type": "markdown",
   "metadata": {},
   "source": [
    "## Pre-processing\n",
    "* Using a text file to annotate the columns in a MatrixTable\n",
    "* Imported this file into Hail with `import_table`. This function produces a Table object. (similar to Pandas or R dataframe, but not limited by the memory as it’s distributed with Spark)."
   ]
  },
  {
   "cell_type": "code",
   "execution_count": 11,
   "metadata": {},
   "outputs": [
    {
     "name": "stdout",
     "output_type": "stream",
     "text": [
      "----------------------------------------\n",
      "Global fields:\n",
      "    None\n",
      "----------------------------------------\n",
      "Row fields:\n",
      "    'Sample': str \n",
      "    'Population': str \n",
      "    'SuperPopulation': str \n",
      "    'isFemale': bool \n",
      "    'PurpleHair': bool \n",
      "    'CaffeineConsumption': int32 \n",
      "----------------------------------------\n",
      "Key: ['Sample']\n",
      "----------------------------------------\n"
     ]
    },
    {
     "name": "stderr",
     "output_type": "stream",
     "text": [
      "2019-10-21 09:27:11 Hail: INFO: Reading table to impute column types\n",
      "2019-10-21 09:27:11 Hail: INFO: Finished type imputation\n",
      "  Loading column 'Sample' as type 'str' (imputed)\n",
      "  Loading column 'Population' as type 'str' (imputed)\n",
      "  Loading column 'SuperPopulation' as type 'str' (imputed)\n",
      "  Loading column 'isFemale' as type 'bool' (imputed)\n",
      "  Loading column 'PurpleHair' as type 'bool' (imputed)\n",
      "  Loading column 'CaffeineConsumption' as type 'int32' (imputed)\n"
     ]
    }
   ],
   "source": [
    "table = (hl.import_table('~/Download/hail-gwas-data/1kg_annotations.txt', impute=True)\n",
    "         .key_by('Sample'))\n",
    "table.describe()"
   ]
  },
  {
   "cell_type": "code",
   "execution_count": 12,
   "metadata": {},
   "outputs": [
    {
     "data": {
      "text/html": [
       "<table><thead style=\"font-weight: bold;\"><tr><td>Sample</td><td>Population</td><td>SuperPopulation</td><td>isFemale</td><td>PurpleHair</td><td>CaffeineConsumption</td></tr>\n",
       "<tr><td>str</td><td>str</td><td>str</td><td>bool</td><td>bool</td><td>int32</td></tr>\n",
       "</thead><tbody><tr><td>&quot;HG00096&quot;</td><td>&quot;GBR&quot;</td><td>&quot;EUR&quot;</td><td>false</td><td>false</td><td>4</td></tr>\n",
       "<tr><td>&quot;HG00097&quot;</td><td>&quot;GBR&quot;</td><td>&quot;EUR&quot;</td><td>true</td><td>true</td><td>4</td></tr>\n",
       "<tr><td>&quot;HG00098&quot;</td><td>&quot;GBR&quot;</td><td>&quot;EUR&quot;</td><td>false</td><td>false</td><td>5</td></tr>\n",
       "<tr><td>&quot;HG00099&quot;</td><td>&quot;GBR&quot;</td><td>&quot;EUR&quot;</td><td>true</td><td>false</td><td>4</td></tr>\n",
       "<tr><td>&quot;HG00100&quot;</td><td>&quot;GBR&quot;</td><td>&quot;EUR&quot;</td><td>true</td><td>false</td><td>5</td></tr>\n",
       "<tr><td>&quot;HG00101&quot;</td><td>&quot;GBR&quot;</td><td>&quot;EUR&quot;</td><td>false</td><td>true</td><td>1</td></tr>\n",
       "<tr><td>&quot;HG00102&quot;</td><td>&quot;GBR&quot;</td><td>&quot;EUR&quot;</td><td>true</td><td>true</td><td>6</td></tr>\n",
       "<tr><td>&quot;HG00103&quot;</td><td>&quot;GBR&quot;</td><td>&quot;EUR&quot;</td><td>false</td><td>true</td><td>5</td></tr>\n",
       "<tr><td>&quot;HG00104&quot;</td><td>&quot;GBR&quot;</td><td>&quot;EUR&quot;</td><td>true</td><td>false</td><td>5</td></tr>\n",
       "<tr><td>&quot;HG00105&quot;</td><td>&quot;GBR&quot;</td><td>&quot;EUR&quot;</td><td>false</td><td>false</td><td>4</td></tr>\n",
       "</tbody></table><p style=\"background: #fdd; padding: 0.4em;\">showing top 10 rows</p>\n"
      ],
      "text/plain": [
       "+-----------+------------+-----------------+----------+------------+---------------------+\n",
       "| Sample    | Population | SuperPopulation | isFemale | PurpleHair | CaffeineConsumption |\n",
       "+-----------+------------+-----------------+----------+------------+---------------------+\n",
       "| str       | str        | str             |     bool |       bool |               int32 |\n",
       "+-----------+------------+-----------------+----------+------------+---------------------+\n",
       "| \"HG00096\" | \"GBR\"      | \"EUR\"           |    false |      false |                   4 |\n",
       "| \"HG00097\" | \"GBR\"      | \"EUR\"           |     true |       true |                   4 |\n",
       "| \"HG00098\" | \"GBR\"      | \"EUR\"           |    false |      false |                   5 |\n",
       "| \"HG00099\" | \"GBR\"      | \"EUR\"           |     true |      false |                   4 |\n",
       "| \"HG00100\" | \"GBR\"      | \"EUR\"           |     true |      false |                   5 |\n",
       "| \"HG00101\" | \"GBR\"      | \"EUR\"           |    false |       true |                   1 |\n",
       "| \"HG00102\" | \"GBR\"      | \"EUR\"           |     true |       true |                   6 |\n",
       "| \"HG00103\" | \"GBR\"      | \"EUR\"           |    false |       true |                   5 |\n",
       "| \"HG00104\" | \"GBR\"      | \"EUR\"           |     true |      false |                   5 |\n",
       "| \"HG00105\" | \"GBR\"      | \"EUR\"           |    false |      false |                   4 |\n",
       "+-----------+------------+-----------------+----------+------------+---------------------+\n",
       "showing top 10 rows"
      ]
     },
     "metadata": {},
     "output_type": "display_data"
    }
   ],
   "source": [
    "table.show(width=100)"
   ]
  },
  {
   "cell_type": "code",
   "execution_count": 13,
   "metadata": {},
   "outputs": [
    {
     "name": "stdout",
     "output_type": "stream",
     "text": [
      "struct{s: str}\n"
     ]
    }
   ],
   "source": [
    "print(mt.col.dtype)"
   ]
  },
  {
   "cell_type": "markdown",
   "metadata": {},
   "source": [
    "* add sample annotations to the dataset through a column in the MatrixTable.\n",
    "* `annotate_cols` method to join the table with the MatrixTable containing the dataset."
   ]
  },
  {
   "cell_type": "code",
   "execution_count": 14,
   "metadata": {},
   "outputs": [
    {
     "name": "stdout",
     "output_type": "stream",
     "text": [
      "--------------------------------------------------------\n",
      "Type:\n",
      "        struct {\n",
      "        s: str, \n",
      "        pheno: struct {\n",
      "            Population: str, \n",
      "            SuperPopulation: str, \n",
      "            isFemale: bool, \n",
      "            PurpleHair: bool, \n",
      "            CaffeineConsumption: int32\n",
      "        }\n",
      "    }\n",
      "--------------------------------------------------------\n",
      "Source:\n",
      "    <hail.matrixtable.MatrixTable object at 0x12b4d9590>\n",
      "Index:\n",
      "    ['column']\n",
      "--------------------------------------------------------\n"
     ]
    }
   ],
   "source": [
    "mt = mt.annotate_cols(pheno = table[mt.s])\n",
    "mt.col.describe()"
   ]
  },
  {
   "cell_type": "markdown",
   "metadata": {},
   "source": [
    "* Query functions and the Hail Expression Language\n",
    "    * gathering statistics (Expressions as arguments)."
   ]
  },
  {
   "cell_type": "code",
   "execution_count": 15,
   "metadata": {},
   "outputs": [
    {
     "name": "stdout",
     "output_type": "stream",
     "text": [
      "{'AFR': 1018, 'AMR': 535, 'EAS': 617, 'EUR': 669, 'SAS': 661}\n"
     ]
    }
   ],
   "source": [
    "pprint(table.aggregate(hl.agg.counter(table.SuperPopulation)))"
   ]
  },
  {
   "cell_type": "code",
   "execution_count": 16,
   "metadata": {},
   "outputs": [
    {
     "name": "stdout",
     "output_type": "stream",
     "text": [
      "{'max': 10.0,\n",
      " 'mean': 3.9837142857142855,\n",
      " 'min': -1.0,\n",
      " 'n': 3500,\n",
      " 'stdev': 1.7021055628070711,\n",
      " 'sum': 13943.0}\n"
     ]
    }
   ],
   "source": [
    "pprint(table.aggregate(hl.agg.stats(table.CaffeineConsumption)))"
   ]
  },
  {
   "cell_type": "markdown",
   "metadata": {},
   "source": [
    "* These metrics aren’t perfectly representative of the samples in the dataset, because:"
   ]
  },
  {
   "cell_type": "code",
   "execution_count": 17,
   "metadata": {},
   "outputs": [
    {
     "data": {
      "text/plain": [
       "3500"
      ]
     },
     "execution_count": 17,
     "metadata": {},
     "output_type": "execute_result"
    }
   ],
   "source": [
    "table.count()"
   ]
  },
  {
   "cell_type": "code",
   "execution_count": 18,
   "metadata": {},
   "outputs": [
    {
     "data": {
      "text/plain": [
       "284"
      ]
     },
     "execution_count": 18,
     "metadata": {},
     "output_type": "execute_result"
    }
   ],
   "source": [
    "mt.count_cols()"
   ]
  },
  {
   "cell_type": "markdown",
   "metadata": {},
   "source": [
    "* There are fewer samples in the dataset than in the full thousand genomes cohort. Use `aggregate_cols` to get the metrics for only the samples in the dataset"
   ]
  },
  {
   "cell_type": "code",
   "execution_count": 19,
   "metadata": {},
   "outputs": [
    {
     "data": {
      "text/plain": [
       "{'AFR': 76, 'EAS': 72, 'AMR': 34, 'SAS': 55, 'EUR': 47}"
      ]
     },
     "execution_count": 19,
     "metadata": {},
     "output_type": "execute_result"
    }
   ],
   "source": [
    "mt.aggregate_cols(hl.agg.counter(mt.pheno.SuperPopulation))"
   ]
  },
  {
   "cell_type": "code",
   "execution_count": 20,
   "metadata": {},
   "outputs": [
    {
     "name": "stdout",
     "output_type": "stream",
     "text": [
      "{'max': 9.0,\n",
      " 'mean': 4.415492957746479,\n",
      " 'min': 0.0,\n",
      " 'n': 284,\n",
      " 'stdev': 1.577763427465917,\n",
      " 'sum': 1254.0}\n"
     ]
    }
   ],
   "source": [
    "pprint(mt.aggregate_cols(hl.agg.stats(mt.pheno.CaffeineConsumption)))"
   ]
  },
  {
   "cell_type": "markdown",
   "metadata": {},
   "source": [
    "* Calculate the counts of each of the 12 possible unique SNPs (4 choices for the reference base * 3 choices for the alternate base).\n",
    "    1. get the alternate allele of each variant\n",
    "    1. count the occurences of each unique ref/alt pair."
   ]
  },
  {
   "cell_type": "code",
   "execution_count": 21,
   "metadata": {},
   "outputs": [
    {
     "name": "stdout",
     "output_type": "stream",
     "text": [
      "{Struct(ref='T', alt='G'): 468,\n",
      " Struct(ref='C', alt='G'): 150,\n",
      " Struct(ref='G', alt='T'): 480,\n",
      " Struct(ref='T', alt='C'): 1879,\n",
      " Struct(ref='G', alt='C'): 112,\n",
      " Struct(ref='T', alt='A'): 79,\n",
      " Struct(ref='A', alt='T'): 76,\n",
      " Struct(ref='C', alt='A'): 496,\n",
      " Struct(ref='C', alt='T'): 2436,\n",
      " Struct(ref='G', alt='A'): 2387,\n",
      " Struct(ref='A', alt='C'): 454,\n",
      " Struct(ref='A', alt='G'): 1944}\n"
     ]
    }
   ],
   "source": [
    "snp_counts = mt.aggregate_rows(hl.agg.counter(hl.Struct(ref=mt.alleles[0], alt=mt.alleles[1])))\n",
    "pprint(snp_counts)"
   ]
  },
  {
   "cell_type": "markdown",
   "metadata": {},
   "source": [
    "* list the counts in descending order using Python’s Counter class."
   ]
  },
  {
   "cell_type": "code",
   "execution_count": 22,
   "metadata": {},
   "outputs": [
    {
     "data": {
      "text/plain": [
       "[(Struct(ref='C', alt='T'), 2436),\n",
       " (Struct(ref='G', alt='A'), 2387),\n",
       " (Struct(ref='A', alt='G'), 1944),\n",
       " (Struct(ref='T', alt='C'), 1879),\n",
       " (Struct(ref='C', alt='A'), 496),\n",
       " (Struct(ref='G', alt='T'), 480),\n",
       " (Struct(ref='T', alt='G'), 468),\n",
       " (Struct(ref='A', alt='C'), 454),\n",
       " (Struct(ref='C', alt='G'), 150),\n",
       " (Struct(ref='G', alt='C'), 112),\n",
       " (Struct(ref='T', alt='A'), 79),\n",
       " (Struct(ref='A', alt='T'), 76)]"
      ]
     },
     "execution_count": 22,
     "metadata": {},
     "output_type": "execute_result"
    }
   ],
   "source": [
    "from collections import Counter\n",
    "counts = Counter(snp_counts)\n",
    "counts.most_common()"
   ]
  },
  {
   "cell_type": "code",
   "execution_count": null,
   "metadata": {},
   "outputs": [],
   "source": []
  },
  {
   "cell_type": "code",
   "execution_count": 24,
   "metadata": {},
   "outputs": [
    {
     "data": {
      "text/html": [
       "\n",
       "\n",
       "\n",
       "\n",
       "\n",
       "\n",
       "  <div class=\"bk-root\" id=\"80f264d9-2fd9-40b4-91c9-1ff9940dfec5\" data-root-id=\"1133\"></div>\n"
      ]
     },
     "metadata": {},
     "output_type": "display_data"
    },
    {
     "data": {
      "application/javascript": [
       "(function(root) {\n",
       "  function embed_document(root) {\n",
       "    \n",
       "  var docs_json = {\"a7fb6732-022f-47f2-b62d-70d0bc6ac679\":{\"roots\":{\"references\":[{\"attributes\":{\"background_fill_color\":{\"value\":\"#EEEEEE\"},\"below\":[{\"id\":\"1144\",\"type\":\"LinearAxis\"}],\"center\":[{\"id\":\"1148\",\"type\":\"Grid\"},{\"id\":\"1153\",\"type\":\"Grid\"},{\"id\":\"1178\",\"type\":\"Legend\"}],\"left\":[{\"id\":\"1149\",\"type\":\"LinearAxis\"}],\"renderers\":[{\"id\":\"1170\",\"type\":\"GlyphRenderer\"},{\"id\":\"1183\",\"type\":\"GlyphRenderer\"}],\"title\":{\"id\":\"1134\",\"type\":\"Title\"},\"toolbar\":{\"id\":\"1160\",\"type\":\"Toolbar\"},\"x_range\":{\"id\":\"1136\",\"type\":\"Range1d\"},\"x_scale\":{\"id\":\"1140\",\"type\":\"LinearScale\"},\"y_range\":{\"id\":\"1138\",\"type\":\"DataRange1d\"},\"y_scale\":{\"id\":\"1142\",\"type\":\"LinearScale\"}},\"id\":\"1133\",\"subtype\":\"Figure\",\"type\":\"Plot\"},{\"attributes\":{\"callback\":null,\"data\":{\"left\":[0.0,1.0,2.0,3.0,4.0,5.0,6.0,7.0,8.0,9.0,10.0,11.0,12.0,13.0,14.0,15.0,16.0,17.0,18.0,19.0,20.0,21.0,22.0,23.0,24.0,25.0,26.0,27.0,28.0,29.0],\"right\":[1.0,2.0,3.0,4.0,5.0,6.0,7.0,8.0,9.0,10.0,11.0,12.0,13.0,14.0,15.0,16.0,17.0,18.0,19.0,20.0,21.0,22.0,23.0,24.0,25.0,26.0,27.0,28.0,29.0,30.0],\"top\":[164,110926,190473,262461,312564,333378,326769,302922,262866,221400,179757,142527,109221,82659,61912,45047,33297,24354,17830,12858,9467,6958,5001,3781,2751,1971,1516,1041,765,869]},\"selected\":{\"id\":\"1190\",\"type\":\"Selection\"},\"selection_policy\":{\"id\":\"1191\",\"type\":\"UnionRenderers\"}},\"id\":\"1167\",\"type\":\"ColumnDataSource\"},{\"attributes\":{\"bottom\":{\"value\":0},\"fill_alpha\":{\"value\":0.1},\"fill_color\":{\"value\":\"#1f77b4\"},\"left\":{\"value\":30.0},\"line_alpha\":{\"value\":0.1},\"line_color\":{\"value\":\"#1f77b4\"},\"right\":{\"value\":31.0},\"top\":{\"value\":809}},\"id\":\"1182\",\"type\":\"Quad\"},{\"attributes\":{\"callback\":null,\"end\":31.5,\"start\":-1.5},\"id\":\"1136\",\"type\":\"Range1d\"},{\"attributes\":{\"overlay\":{\"id\":\"1177\",\"type\":\"BoxAnnotation\"}},\"id\":\"1156\",\"type\":\"BoxZoomTool\"},{\"attributes\":{},\"id\":\"1140\",\"type\":\"LinearScale\"},{\"attributes\":{\"ticker\":{\"id\":\"1145\",\"type\":\"BasicTicker\"}},\"id\":\"1148\",\"type\":\"Grid\"},{\"attributes\":{},\"id\":\"1145\",\"type\":\"BasicTicker\"},{\"attributes\":{\"text\":\"DP Histogram\"},\"id\":\"1134\",\"type\":\"Title\"},{\"attributes\":{},\"id\":\"1176\",\"type\":\"BasicTickFormatter\"},{\"attributes\":{},\"id\":\"1155\",\"type\":\"WheelZoomTool\"},{\"attributes\":{\"bottom_units\":\"screen\",\"fill_alpha\":{\"value\":0.5},\"fill_color\":{\"value\":\"lightgrey\"},\"left_units\":\"screen\",\"level\":\"overlay\",\"line_alpha\":{\"value\":1.0},\"line_color\":{\"value\":\"black\"},\"line_dash\":[4,4],\"line_width\":{\"value\":2},\"render_mode\":\"css\",\"right_units\":\"screen\",\"top_units\":\"screen\"},\"id\":\"1177\",\"type\":\"BoxAnnotation\"},{\"attributes\":{},\"id\":\"1142\",\"type\":\"LinearScale\"},{\"attributes\":{\"data_source\":{\"id\":\"1167\",\"type\":\"ColumnDataSource\"},\"glyph\":{\"id\":\"1168\",\"type\":\"Quad\"},\"hover_glyph\":null,\"muted_glyph\":null,\"nonselection_glyph\":{\"id\":\"1169\",\"type\":\"Quad\"},\"selection_glyph\":null,\"view\":{\"id\":\"1171\",\"type\":\"CDSView\"}},\"id\":\"1170\",\"type\":\"GlyphRenderer\"},{\"attributes\":{},\"id\":\"1157\",\"type\":\"SaveTool\"},{\"attributes\":{\"bottom\":{\"value\":0},\"fill_color\":{\"value\":\"green\"},\"left\":{\"value\":30.0},\"right\":{\"value\":31.0},\"top\":{\"value\":809}},\"id\":\"1181\",\"type\":\"Quad\"},{\"attributes\":{\"label\":{\"value\":\"DP\"},\"renderers\":[{\"id\":\"1170\",\"type\":\"GlyphRenderer\"}]},\"id\":\"1179\",\"type\":\"LegendItem\"},{\"attributes\":{\"data_source\":{\"id\":\"1180\",\"type\":\"ColumnDataSource\"},\"glyph\":{\"id\":\"1181\",\"type\":\"Quad\"},\"hover_glyph\":null,\"muted_glyph\":null,\"nonselection_glyph\":{\"id\":\"1182\",\"type\":\"Quad\"},\"selection_glyph\":null,\"view\":{\"id\":\"1184\",\"type\":\"CDSView\"}},\"id\":\"1183\",\"type\":\"GlyphRenderer\"},{\"attributes\":{\"source\":{\"id\":\"1167\",\"type\":\"ColumnDataSource\"}},\"id\":\"1171\",\"type\":\"CDSView\"},{\"attributes\":{\"axis_label\":\"DP\",\"formatter\":{\"id\":\"1176\",\"type\":\"BasicTickFormatter\"},\"ticker\":{\"id\":\"1145\",\"type\":\"BasicTicker\"}},\"id\":\"1144\",\"type\":\"LinearAxis\"},{\"attributes\":{},\"id\":\"1190\",\"type\":\"Selection\"},{\"attributes\":{\"label\":{\"value\":\"Outliers Above\"},\"renderers\":[{\"id\":\"1183\",\"type\":\"GlyphRenderer\"}]},\"id\":\"1193\",\"type\":\"LegendItem\"},{\"attributes\":{\"callback\":null,\"data\":{},\"selected\":{\"id\":\"1211\",\"type\":\"Selection\"},\"selection_policy\":{\"id\":\"1212\",\"type\":\"UnionRenderers\"}},\"id\":\"1180\",\"type\":\"ColumnDataSource\"},{\"attributes\":{},\"id\":\"1159\",\"type\":\"HelpTool\"},{\"attributes\":{\"source\":{\"id\":\"1180\",\"type\":\"ColumnDataSource\"}},\"id\":\"1184\",\"type\":\"CDSView\"},{\"attributes\":{},\"id\":\"1211\",\"type\":\"Selection\"},{\"attributes\":{\"items\":[{\"id\":\"1179\",\"type\":\"LegendItem\"},{\"id\":\"1193\",\"type\":\"LegendItem\"}]},\"id\":\"1178\",\"type\":\"Legend\"},{\"attributes\":{},\"id\":\"1150\",\"type\":\"BasicTicker\"},{\"attributes\":{},\"id\":\"1154\",\"type\":\"PanTool\"},{\"attributes\":{\"axis_label\":\"Frequency\",\"formatter\":{\"id\":\"1174\",\"type\":\"BasicTickFormatter\"},\"ticker\":{\"id\":\"1150\",\"type\":\"BasicTicker\"}},\"id\":\"1149\",\"type\":\"LinearAxis\"},{\"attributes\":{\"callback\":null},\"id\":\"1138\",\"type\":\"DataRange1d\"},{\"attributes\":{\"dimension\":1,\"ticker\":{\"id\":\"1150\",\"type\":\"BasicTicker\"}},\"id\":\"1153\",\"type\":\"Grid\"},{\"attributes\":{},\"id\":\"1158\",\"type\":\"ResetTool\"},{\"attributes\":{},\"id\":\"1191\",\"type\":\"UnionRenderers\"},{\"attributes\":{\"active_drag\":\"auto\",\"active_inspect\":\"auto\",\"active_multi\":null,\"active_scroll\":\"auto\",\"active_tap\":\"auto\",\"tools\":[{\"id\":\"1154\",\"type\":\"PanTool\"},{\"id\":\"1155\",\"type\":\"WheelZoomTool\"},{\"id\":\"1156\",\"type\":\"BoxZoomTool\"},{\"id\":\"1157\",\"type\":\"SaveTool\"},{\"id\":\"1158\",\"type\":\"ResetTool\"},{\"id\":\"1159\",\"type\":\"HelpTool\"}]},\"id\":\"1160\",\"type\":\"Toolbar\"},{\"attributes\":{\"bottom\":{\"value\":0},\"fill_color\":{\"value\":\"#1f77b4\"},\"left\":{\"field\":\"left\"},\"right\":{\"field\":\"right\"},\"top\":{\"field\":\"top\"}},\"id\":\"1168\",\"type\":\"Quad\"},{\"attributes\":{},\"id\":\"1212\",\"type\":\"UnionRenderers\"},{\"attributes\":{\"bottom\":{\"value\":0},\"fill_alpha\":{\"value\":0.1},\"fill_color\":{\"value\":\"#1f77b4\"},\"left\":{\"field\":\"left\"},\"line_alpha\":{\"value\":0.1},\"line_color\":{\"value\":\"#1f77b4\"},\"right\":{\"field\":\"right\"},\"top\":{\"field\":\"top\"}},\"id\":\"1169\",\"type\":\"Quad\"},{\"attributes\":{},\"id\":\"1174\",\"type\":\"BasicTickFormatter\"}],\"root_ids\":[\"1133\"]},\"title\":\"Bokeh Application\",\"version\":\"1.2.0\"}};\n",
       "  var render_items = [{\"docid\":\"a7fb6732-022f-47f2-b62d-70d0bc6ac679\",\"roots\":{\"1133\":\"80f264d9-2fd9-40b4-91c9-1ff9940dfec5\"}}];\n",
       "  root.Bokeh.embed.embed_items_notebook(docs_json, render_items);\n",
       "\n",
       "  }\n",
       "  if (root.Bokeh !== undefined) {\n",
       "    embed_document(root);\n",
       "  } else {\n",
       "    var attempts = 0;\n",
       "    var timer = setInterval(function(root) {\n",
       "      if (root.Bokeh !== undefined) {\n",
       "        embed_document(root);\n",
       "        clearInterval(timer);\n",
       "      }\n",
       "      attempts++;\n",
       "      if (attempts > 100) {\n",
       "        console.log(\"Bokeh: ERROR: Unable to run BokehJS code because BokehJS library is missing\");\n",
       "        clearInterval(timer);\n",
       "      }\n",
       "    }, 10, root)\n",
       "  }\n",
       "})(window);"
      ],
      "application/vnd.bokehjs_exec.v0+json": ""
     },
     "metadata": {
      "application/vnd.bokehjs_exec.v0+json": {
       "id": "1133"
      }
     },
     "output_type": "display_data"
    }
   ],
   "source": [
    "p = hl.plot.histogram(mt.DP, range=(0,30), bins=30, title='DP Histogram', legend='DP')\n",
    "show(p)"
   ]
  },
  {
   "cell_type": "markdown",
   "metadata": {},
   "source": [
    "## Quality Control\n",
    "* sequencing dataset.\n",
    "* iterative process, and is different for every project.\n",
    "    * based on the ability to understand the properties of a dataset.\n",
    "* However, by practicing open science and discussing the QC process and decisions with others, we can establish a set of best practices as a community.\n",
    "* `sample_qc` function is a Hail function which produces a set of useful metrics and stores them in a column field."
   ]
  },
  {
   "cell_type": "code",
   "execution_count": 25,
   "metadata": {},
   "outputs": [
    {
     "name": "stdout",
     "output_type": "stream",
     "text": [
      "--------------------------------------------------------\n",
      "Type:\n",
      "        struct {\n",
      "        s: str, \n",
      "        pheno: struct {\n",
      "            Population: str, \n",
      "            SuperPopulation: str, \n",
      "            isFemale: bool, \n",
      "            PurpleHair: bool, \n",
      "            CaffeineConsumption: int32\n",
      "        }\n",
      "    }\n",
      "--------------------------------------------------------\n",
      "Source:\n",
      "    <hail.matrixtable.MatrixTable object at 0x12b4d9590>\n",
      "Index:\n",
      "    ['column']\n",
      "--------------------------------------------------------\n"
     ]
    }
   ],
   "source": [
    "mt.col.describe()"
   ]
  },
  {
   "cell_type": "code",
   "execution_count": 26,
   "metadata": {},
   "outputs": [],
   "source": [
    "mt = hl.sample_qc(mt)"
   ]
  },
  {
   "cell_type": "code",
   "execution_count": 27,
   "metadata": {},
   "outputs": [
    {
     "name": "stdout",
     "output_type": "stream",
     "text": [
      "--------------------------------------------------------\n",
      "Type:\n",
      "        struct {\n",
      "        s: str, \n",
      "        pheno: struct {\n",
      "            Population: str, \n",
      "            SuperPopulation: str, \n",
      "            isFemale: bool, \n",
      "            PurpleHair: bool, \n",
      "            CaffeineConsumption: int32\n",
      "        }, \n",
      "        sample_qc: struct {\n",
      "            dp_stats: struct {\n",
      "                mean: float64, \n",
      "                stdev: float64, \n",
      "                min: float64, \n",
      "                max: float64\n",
      "            }, \n",
      "            gq_stats: struct {\n",
      "                mean: float64, \n",
      "                stdev: float64, \n",
      "                min: float64, \n",
      "                max: float64\n",
      "            }, \n",
      "            call_rate: float64, \n",
      "            n_called: int64, \n",
      "            n_not_called: int64, \n",
      "            n_filtered: int64, \n",
      "            n_hom_ref: int64, \n",
      "            n_het: int64, \n",
      "            n_hom_var: int64, \n",
      "            n_non_ref: int64, \n",
      "            n_singleton: int64, \n",
      "            n_snp: int64, \n",
      "            n_insertion: int64, \n",
      "            n_deletion: int64, \n",
      "            n_transition: int64, \n",
      "            n_transversion: int64, \n",
      "            n_star: int64, \n",
      "            r_ti_tv: float64, \n",
      "            r_het_hom_var: float64, \n",
      "            r_insertion_deletion: float64\n",
      "        }\n",
      "    }\n",
      "--------------------------------------------------------\n",
      "Source:\n",
      "    <hail.matrixtable.MatrixTable object at 0x12b56b310>\n",
      "Index:\n",
      "    ['column']\n",
      "--------------------------------------------------------\n"
     ]
    }
   ],
   "source": [
    "mt.col.describe()"
   ]
  },
  {
   "cell_type": "code",
   "execution_count": 30,
   "metadata": {},
   "outputs": [
    {
     "data": {
      "text/html": [
       "\n",
       "\n",
       "\n",
       "\n",
       "\n",
       "\n",
       "  <div class=\"bk-root\" id=\"05f7708c-1352-45ee-9f7b-4c154390a74d\" data-root-id=\"1484\"></div>\n"
      ]
     },
     "metadata": {},
     "output_type": "display_data"
    },
    {
     "data": {
      "application/javascript": [
       "(function(root) {\n",
       "  function embed_document(root) {\n",
       "    \n",
       "  var docs_json = {\"9279eb9c-2a5d-4d46-8f19-d36e741c051a\":{\"roots\":{\"references\":[{\"attributes\":{\"background_fill_color\":{\"value\":\"#EEEEEE\"},\"below\":[{\"id\":\"1494\",\"type\":\"LinearAxis\"}],\"center\":[{\"id\":\"1498\",\"type\":\"Grid\"},{\"id\":\"1503\",\"type\":\"Grid\"},{\"id\":\"1528\",\"type\":\"Legend\"}],\"left\":[{\"id\":\"1499\",\"type\":\"LinearAxis\"}],\"renderers\":[{\"id\":\"1520\",\"type\":\"GlyphRenderer\"},{\"id\":\"1533\",\"type\":\"GlyphRenderer\"}],\"title\":null,\"toolbar\":{\"id\":\"1510\",\"type\":\"Toolbar\"},\"x_range\":{\"id\":\"1486\",\"type\":\"Range1d\"},\"x_scale\":{\"id\":\"1490\",\"type\":\"LinearScale\"},\"y_range\":{\"id\":\"1488\",\"type\":\"DataRange1d\"},\"y_scale\":{\"id\":\"1492\",\"type\":\"LinearScale\"}},\"id\":\"1484\",\"subtype\":\"Figure\",\"type\":\"Plot\"},{\"attributes\":{\"axis_label\":\"Frequency\",\"formatter\":{\"id\":\"1524\",\"type\":\"BasicTickFormatter\"},\"ticker\":{\"id\":\"1500\",\"type\":\"BasicTicker\"}},\"id\":\"1499\",\"type\":\"LinearAxis\"},{\"attributes\":{\"data_source\":{\"id\":\"1530\",\"type\":\"ColumnDataSource\"},\"glyph\":{\"id\":\"1531\",\"type\":\"Quad\"},\"hover_glyph\":null,\"muted_glyph\":null,\"nonselection_glyph\":{\"id\":\"1532\",\"type\":\"Quad\"},\"selection_glyph\":null,\"view\":{\"id\":\"1534\",\"type\":\"CDSView\"}},\"id\":\"1533\",\"type\":\"GlyphRenderer\"},{\"attributes\":{\"callback\":null,\"data\":{\"left\":[0.88,0.8824,0.8848,0.8872,0.8896000000000001,0.892,0.8944,0.8968,0.8992,0.9016,0.904,0.9064,0.9088,0.9112,0.9136,0.916,0.9184,0.9208,0.9232,0.9256,0.928,0.9304,0.9328,0.9352,0.9376,0.94,0.9424,0.9448,0.9472,0.9496,0.952,0.9544,0.9568,0.9592,0.9616,0.964,0.9664,0.9688,0.9712,0.9736,0.976,0.9783999999999999,0.9808,0.9832,0.9856,0.988,0.9904,0.9928,0.9952,0.9976],\"right\":[0.8824,0.8848,0.8872,0.8896000000000001,0.892,0.8944,0.8968,0.8992,0.9016,0.904,0.9064,0.9088,0.9112,0.9136,0.916,0.9184,0.9208,0.9232,0.9256,0.928,0.9304,0.9328,0.9352,0.9376,0.94,0.9424,0.9448,0.9472,0.9496,0.952,0.9544,0.9568,0.9592,0.9616,0.964,0.9664,0.9688,0.9712,0.9736,0.976,0.9783999999999999,0.9808,0.9832,0.9856,0.988,0.9904,0.9928,0.9952,0.9976,1.0],\"top\":[0,0,0,2,0,0,0,0,0,0,0,1,1,1,0,1,0,0,0,0,0,0,1,2,1,2,1,2,1,2,0,2,1,2,1,3,3,3,4,11,5,10,8,12,10,15,23,20,45,87]},\"selected\":{\"id\":\"1540\",\"type\":\"Selection\"},\"selection_policy\":{\"id\":\"1541\",\"type\":\"UnionRenderers\"}},\"id\":\"1517\",\"type\":\"ColumnDataSource\"},{\"attributes\":{\"source\":{\"id\":\"1530\",\"type\":\"ColumnDataSource\"}},\"id\":\"1534\",\"type\":\"CDSView\"},{\"attributes\":{},\"id\":\"1581\",\"type\":\"Selection\"},{\"attributes\":{},\"id\":\"1495\",\"type\":\"BasicTicker\"},{\"attributes\":{\"source\":{\"id\":\"1517\",\"type\":\"ColumnDataSource\"}},\"id\":\"1521\",\"type\":\"CDSView\"},{\"attributes\":{},\"id\":\"1492\",\"type\":\"LinearScale\"},{\"attributes\":{\"callback\":null},\"id\":\"1488\",\"type\":\"DataRange1d\"},{\"attributes\":{\"bottom\":{\"value\":0},\"fill_alpha\":{\"value\":0.1},\"fill_color\":{\"value\":\"#1f77b4\"},\"left\":{\"field\":\"left\"},\"line_alpha\":{\"value\":0.1},\"line_color\":{\"value\":\"#1f77b4\"},\"right\":{\"field\":\"right\"},\"top\":{\"field\":\"top\"}},\"id\":\"1519\",\"type\":\"Quad\"},{\"attributes\":{},\"id\":\"1504\",\"type\":\"PanTool\"},{\"attributes\":{},\"id\":\"1508\",\"type\":\"ResetTool\"},{\"attributes\":{\"bottom\":{\"value\":0},\"fill_color\":{\"value\":\"red\"},\"left\":{\"value\":0.8776},\"right\":{\"value\":0.88},\"top\":{\"value\":1}},\"id\":\"1531\",\"type\":\"Quad\"},{\"attributes\":{\"overlay\":{\"id\":\"1527\",\"type\":\"BoxAnnotation\"}},\"id\":\"1506\",\"type\":\"BoxZoomTool\"},{\"attributes\":{\"active_drag\":\"auto\",\"active_inspect\":\"auto\",\"active_multi\":null,\"active_scroll\":\"auto\",\"active_tap\":\"auto\",\"tools\":[{\"id\":\"1504\",\"type\":\"PanTool\"},{\"id\":\"1505\",\"type\":\"WheelZoomTool\"},{\"id\":\"1506\",\"type\":\"BoxZoomTool\"},{\"id\":\"1507\",\"type\":\"SaveTool\"},{\"id\":\"1508\",\"type\":\"ResetTool\"},{\"id\":\"1509\",\"type\":\"HelpTool\"}]},\"id\":\"1510\",\"type\":\"Toolbar\"},{\"attributes\":{},\"id\":\"1524\",\"type\":\"BasicTickFormatter\"},{\"attributes\":{\"label\":{\"value\":\"Call Rate\"},\"renderers\":[{\"id\":\"1520\",\"type\":\"GlyphRenderer\"}]},\"id\":\"1529\",\"type\":\"LegendItem\"},{\"attributes\":{\"bottom\":{\"value\":0},\"fill_alpha\":{\"value\":0.1},\"fill_color\":{\"value\":\"#1f77b4\"},\"left\":{\"value\":0.8776},\"line_alpha\":{\"value\":0.1},\"line_color\":{\"value\":\"#1f77b4\"},\"right\":{\"value\":0.88},\"top\":{\"value\":1}},\"id\":\"1532\",\"type\":\"Quad\"},{\"attributes\":{\"callback\":null,\"data\":{},\"selected\":{\"id\":\"1581\",\"type\":\"Selection\"},\"selection_policy\":{\"id\":\"1582\",\"type\":\"UnionRenderers\"}},\"id\":\"1530\",\"type\":\"ColumnDataSource\"},{\"attributes\":{},\"id\":\"1582\",\"type\":\"UnionRenderers\"},{\"attributes\":{\"callback\":null,\"end\":1.006,\"start\":0.874},\"id\":\"1486\",\"type\":\"Range1d\"},{\"attributes\":{\"bottom_units\":\"screen\",\"fill_alpha\":{\"value\":0.5},\"fill_color\":{\"value\":\"lightgrey\"},\"left_units\":\"screen\",\"level\":\"overlay\",\"line_alpha\":{\"value\":1.0},\"line_color\":{\"value\":\"black\"},\"line_dash\":[4,4],\"line_width\":{\"value\":2},\"render_mode\":\"css\",\"right_units\":\"screen\",\"top_units\":\"screen\"},\"id\":\"1527\",\"type\":\"BoxAnnotation\"},{\"attributes\":{},\"id\":\"1500\",\"type\":\"BasicTicker\"},{\"attributes\":{},\"id\":\"1509\",\"type\":\"HelpTool\"},{\"attributes\":{\"dimension\":1,\"ticker\":{\"id\":\"1500\",\"type\":\"BasicTicker\"}},\"id\":\"1503\",\"type\":\"Grid\"},{\"attributes\":{\"label\":{\"value\":\"Outliers Below\"},\"renderers\":[{\"id\":\"1533\",\"type\":\"GlyphRenderer\"}]},\"id\":\"1543\",\"type\":\"LegendItem\"},{\"attributes\":{},\"id\":\"1490\",\"type\":\"LinearScale\"},{\"attributes\":{},\"id\":\"1540\",\"type\":\"Selection\"},{\"attributes\":{},\"id\":\"1541\",\"type\":\"UnionRenderers\"},{\"attributes\":{},\"id\":\"1526\",\"type\":\"BasicTickFormatter\"},{\"attributes\":{},\"id\":\"1507\",\"type\":\"SaveTool\"},{\"attributes\":{\"items\":[{\"id\":\"1529\",\"type\":\"LegendItem\"},{\"id\":\"1543\",\"type\":\"LegendItem\"}]},\"id\":\"1528\",\"type\":\"Legend\"},{\"attributes\":{\"data_source\":{\"id\":\"1517\",\"type\":\"ColumnDataSource\"},\"glyph\":{\"id\":\"1518\",\"type\":\"Quad\"},\"hover_glyph\":null,\"muted_glyph\":null,\"nonselection_glyph\":{\"id\":\"1519\",\"type\":\"Quad\"},\"selection_glyph\":null,\"view\":{\"id\":\"1521\",\"type\":\"CDSView\"}},\"id\":\"1520\",\"type\":\"GlyphRenderer\"},{\"attributes\":{\"axis_label\":\"Call Rate\",\"formatter\":{\"id\":\"1526\",\"type\":\"BasicTickFormatter\"},\"ticker\":{\"id\":\"1495\",\"type\":\"BasicTicker\"}},\"id\":\"1494\",\"type\":\"LinearAxis\"},{\"attributes\":{},\"id\":\"1505\",\"type\":\"WheelZoomTool\"},{\"attributes\":{\"ticker\":{\"id\":\"1495\",\"type\":\"BasicTicker\"}},\"id\":\"1498\",\"type\":\"Grid\"},{\"attributes\":{\"bottom\":{\"value\":0},\"fill_color\":{\"value\":\"#1f77b4\"},\"left\":{\"field\":\"left\"},\"right\":{\"field\":\"right\"},\"top\":{\"field\":\"top\"}},\"id\":\"1518\",\"type\":\"Quad\"}],\"root_ids\":[\"1484\"]},\"title\":\"Bokeh Application\",\"version\":\"1.2.0\"}};\n",
       "  var render_items = [{\"docid\":\"9279eb9c-2a5d-4d46-8f19-d36e741c051a\",\"roots\":{\"1484\":\"05f7708c-1352-45ee-9f7b-4c154390a74d\"}}];\n",
       "  root.Bokeh.embed.embed_items_notebook(docs_json, render_items);\n",
       "\n",
       "  }\n",
       "  if (root.Bokeh !== undefined) {\n",
       "    embed_document(root);\n",
       "  } else {\n",
       "    var attempts = 0;\n",
       "    var timer = setInterval(function(root) {\n",
       "      if (root.Bokeh !== undefined) {\n",
       "        embed_document(root);\n",
       "        clearInterval(timer);\n",
       "      }\n",
       "      attempts++;\n",
       "      if (attempts > 100) {\n",
       "        console.log(\"Bokeh: ERROR: Unable to run BokehJS code because BokehJS library is missing\");\n",
       "        clearInterval(timer);\n",
       "      }\n",
       "    }, 10, root)\n",
       "  }\n",
       "})(window);"
      ],
      "application/vnd.bokehjs_exec.v0+json": ""
     },
     "metadata": {
      "application/vnd.bokehjs_exec.v0+json": {
       "id": "1484"
      }
     },
     "output_type": "display_data"
    }
   ],
   "source": [
    "p = hl.plot.histogram(mt.sample_qc.call_rate, range=(.88,1), legend='Call Rate')\n",
    "show(p)"
   ]
  },
  {
   "cell_type": "code",
   "execution_count": 31,
   "metadata": {},
   "outputs": [
    {
     "data": {
      "text/html": [
       "\n",
       "\n",
       "\n",
       "\n",
       "\n",
       "\n",
       "  <div class=\"bk-root\" id=\"5b92c54d-31a8-4149-90d2-3e97df0a6cc7\" data-root-id=\"1644\"></div>\n"
      ]
     },
     "metadata": {},
     "output_type": "display_data"
    },
    {
     "data": {
      "application/javascript": [
       "(function(root) {\n",
       "  function embed_document(root) {\n",
       "    \n",
       "  var docs_json = {\"ea01ff96-66a4-452b-aa84-f714c17ac783\":{\"roots\":{\"references\":[{\"attributes\":{\"background_fill_color\":{\"value\":\"#EEEEEE\"},\"below\":[{\"id\":\"1654\",\"type\":\"LinearAxis\"}],\"center\":[{\"id\":\"1658\",\"type\":\"Grid\"},{\"id\":\"1663\",\"type\":\"Grid\"},{\"id\":\"1688\",\"type\":\"Legend\"}],\"left\":[{\"id\":\"1659\",\"type\":\"LinearAxis\"}],\"renderers\":[{\"id\":\"1680\",\"type\":\"GlyphRenderer\"},{\"id\":\"1693\",\"type\":\"GlyphRenderer\"}],\"title\":null,\"toolbar\":{\"id\":\"1670\",\"type\":\"Toolbar\"},\"x_range\":{\"id\":\"1646\",\"type\":\"Range1d\"},\"x_scale\":{\"id\":\"1650\",\"type\":\"LinearScale\"},\"y_range\":{\"id\":\"1648\",\"type\":\"DataRange1d\"},\"y_scale\":{\"id\":\"1652\",\"type\":\"LinearScale\"}},\"id\":\"1644\",\"subtype\":\"Figure\",\"type\":\"Plot\"},{\"attributes\":{\"callback\":null},\"id\":\"1648\",\"type\":\"DataRange1d\"},{\"attributes\":{\"bottom\":{\"value\":0},\"fill_alpha\":{\"value\":0.1},\"fill_color\":{\"value\":\"#1f77b4\"},\"left\":{\"value\":70.0},\"line_alpha\":{\"value\":0.1},\"line_color\":{\"value\":\"#1f77b4\"},\"right\":{\"value\":71.2},\"top\":{\"value\":1}},\"id\":\"1692\",\"type\":\"Quad\"},{\"attributes\":{\"bottom\":{\"value\":0},\"fill_alpha\":{\"value\":0.1},\"fill_color\":{\"value\":\"#1f77b4\"},\"left\":{\"field\":\"left\"},\"line_alpha\":{\"value\":0.1},\"line_color\":{\"value\":\"#1f77b4\"},\"right\":{\"field\":\"right\"},\"top\":{\"field\":\"top\"}},\"id\":\"1679\",\"type\":\"Quad\"},{\"attributes\":{\"bottom\":{\"value\":0},\"fill_color\":{\"value\":\"green\"},\"left\":{\"value\":70.0},\"right\":{\"value\":71.2},\"top\":{\"value\":1}},\"id\":\"1691\",\"type\":\"Quad\"},{\"attributes\":{},\"id\":\"1665\",\"type\":\"WheelZoomTool\"},{\"attributes\":{},\"id\":\"1701\",\"type\":\"UnionRenderers\"},{\"attributes\":{\"dimension\":1,\"ticker\":{\"id\":\"1660\",\"type\":\"BasicTicker\"}},\"id\":\"1663\",\"type\":\"Grid\"},{\"attributes\":{},\"id\":\"1751\",\"type\":\"Selection\"},{\"attributes\":{\"items\":[{\"id\":\"1689\",\"type\":\"LegendItem\"},{\"id\":\"1703\",\"type\":\"LegendItem\"}]},\"id\":\"1688\",\"type\":\"Legend\"},{\"attributes\":{\"overlay\":{\"id\":\"1687\",\"type\":\"BoxAnnotation\"}},\"id\":\"1666\",\"type\":\"BoxZoomTool\"},{\"attributes\":{},\"id\":\"1684\",\"type\":\"BasicTickFormatter\"},{\"attributes\":{},\"id\":\"1650\",\"type\":\"LinearScale\"},{\"attributes\":{},\"id\":\"1652\",\"type\":\"LinearScale\"},{\"attributes\":{\"label\":{\"value\":\"Outliers Above\"},\"renderers\":[{\"id\":\"1693\",\"type\":\"GlyphRenderer\"}]},\"id\":\"1703\",\"type\":\"LegendItem\"},{\"attributes\":{\"data_source\":{\"id\":\"1677\",\"type\":\"ColumnDataSource\"},\"glyph\":{\"id\":\"1678\",\"type\":\"Quad\"},\"hover_glyph\":null,\"muted_glyph\":null,\"nonselection_glyph\":{\"id\":\"1679\",\"type\":\"Quad\"},\"selection_glyph\":null,\"view\":{\"id\":\"1681\",\"type\":\"CDSView\"}},\"id\":\"1680\",\"type\":\"GlyphRenderer\"},{\"attributes\":{},\"id\":\"1667\",\"type\":\"SaveTool\"},{\"attributes\":{},\"id\":\"1668\",\"type\":\"ResetTool\"},{\"attributes\":{},\"id\":\"1752\",\"type\":\"UnionRenderers\"},{\"attributes\":{\"source\":{\"id\":\"1677\",\"type\":\"ColumnDataSource\"}},\"id\":\"1681\",\"type\":\"CDSView\"},{\"attributes\":{\"ticker\":{\"id\":\"1655\",\"type\":\"BasicTicker\"}},\"id\":\"1658\",\"type\":\"Grid\"},{\"attributes\":{\"source\":{\"id\":\"1690\",\"type\":\"ColumnDataSource\"}},\"id\":\"1694\",\"type\":\"CDSView\"},{\"attributes\":{},\"id\":\"1660\",\"type\":\"BasicTicker\"},{\"attributes\":{},\"id\":\"1669\",\"type\":\"HelpTool\"},{\"attributes\":{\"bottom\":{\"value\":0},\"fill_color\":{\"value\":\"#1f77b4\"},\"left\":{\"field\":\"left\"},\"right\":{\"field\":\"right\"},\"top\":{\"field\":\"top\"}},\"id\":\"1678\",\"type\":\"Quad\"},{\"attributes\":{\"bottom_units\":\"screen\",\"fill_alpha\":{\"value\":0.5},\"fill_color\":{\"value\":\"lightgrey\"},\"left_units\":\"screen\",\"level\":\"overlay\",\"line_alpha\":{\"value\":1.0},\"line_color\":{\"value\":\"black\"},\"line_dash\":[4,4],\"line_width\":{\"value\":2},\"render_mode\":\"css\",\"right_units\":\"screen\",\"top_units\":\"screen\"},\"id\":\"1687\",\"type\":\"BoxAnnotation\"},{\"attributes\":{\"callback\":null,\"data\":{\"left\":[10.0,11.2,12.4,13.6,14.8,16.0,17.2,18.4,19.6,20.799999999999997,22.0,23.2,24.4,25.6,26.8,28.0,29.2,30.4,31.599999999999998,32.8,34.0,35.2,36.4,37.599999999999994,38.8,40.0,41.2,42.4,43.6,44.8,46.0,47.199999999999996,48.4,49.6,50.8,52.0,53.199999999999996,54.4,55.6,56.8,58.0,59.199999999999996,60.4,61.6,62.8,64.0,65.19999999999999,66.4,67.6,68.8],\"right\":[11.2,12.4,13.6,14.8,16.0,17.2,18.4,19.6,20.799999999999997,22.0,23.2,24.4,25.6,26.8,28.0,29.2,30.4,31.599999999999998,32.8,34.0,35.2,36.4,37.599999999999994,38.8,40.0,41.2,42.4,43.6,44.8,46.0,47.199999999999996,48.4,49.6,50.8,52.0,53.199999999999996,54.4,55.6,56.8,58.0,59.199999999999996,60.4,61.6,62.8,64.0,65.19999999999999,66.4,67.6,68.8,70.0],\"top\":[1,0,3,3,7,3,4,6,12,11,12,15,12,9,10,16,12,11,17,12,12,14,14,7,8,8,12,3,7,3,2,3,2,1,3,1,1,2,0,2,0,0,0,1,0,1,0,0,0,0]},\"selected\":{\"id\":\"1700\",\"type\":\"Selection\"},\"selection_policy\":{\"id\":\"1701\",\"type\":\"UnionRenderers\"}},\"id\":\"1677\",\"type\":\"ColumnDataSource\"},{\"attributes\":{},\"id\":\"1664\",\"type\":\"PanTool\"},{\"attributes\":{},\"id\":\"1655\",\"type\":\"BasicTicker\"},{\"attributes\":{\"data_source\":{\"id\":\"1690\",\"type\":\"ColumnDataSource\"},\"glyph\":{\"id\":\"1691\",\"type\":\"Quad\"},\"hover_glyph\":null,\"muted_glyph\":null,\"nonselection_glyph\":{\"id\":\"1692\",\"type\":\"Quad\"},\"selection_glyph\":null,\"view\":{\"id\":\"1694\",\"type\":\"CDSView\"}},\"id\":\"1693\",\"type\":\"GlyphRenderer\"},{\"attributes\":{\"axis_label\":\"Mean Sample GQ\",\"formatter\":{\"id\":\"1686\",\"type\":\"BasicTickFormatter\"},\"ticker\":{\"id\":\"1655\",\"type\":\"BasicTicker\"}},\"id\":\"1654\",\"type\":\"LinearAxis\"},{\"attributes\":{\"callback\":null,\"data\":{},\"selected\":{\"id\":\"1751\",\"type\":\"Selection\"},\"selection_policy\":{\"id\":\"1752\",\"type\":\"UnionRenderers\"}},\"id\":\"1690\",\"type\":\"ColumnDataSource\"},{\"attributes\":{\"callback\":null,\"end\":73.0,\"start\":7.0},\"id\":\"1646\",\"type\":\"Range1d\"},{\"attributes\":{},\"id\":\"1700\",\"type\":\"Selection\"},{\"attributes\":{\"axis_label\":\"Frequency\",\"formatter\":{\"id\":\"1684\",\"type\":\"BasicTickFormatter\"},\"ticker\":{\"id\":\"1660\",\"type\":\"BasicTicker\"}},\"id\":\"1659\",\"type\":\"LinearAxis\"},{\"attributes\":{\"active_drag\":\"auto\",\"active_inspect\":\"auto\",\"active_multi\":null,\"active_scroll\":\"auto\",\"active_tap\":\"auto\",\"tools\":[{\"id\":\"1664\",\"type\":\"PanTool\"},{\"id\":\"1665\",\"type\":\"WheelZoomTool\"},{\"id\":\"1666\",\"type\":\"BoxZoomTool\"},{\"id\":\"1667\",\"type\":\"SaveTool\"},{\"id\":\"1668\",\"type\":\"ResetTool\"},{\"id\":\"1669\",\"type\":\"HelpTool\"}]},\"id\":\"1670\",\"type\":\"Toolbar\"},{\"attributes\":{\"label\":{\"value\":\"Mean Sample GQ\"},\"renderers\":[{\"id\":\"1680\",\"type\":\"GlyphRenderer\"}]},\"id\":\"1689\",\"type\":\"LegendItem\"},{\"attributes\":{},\"id\":\"1686\",\"type\":\"BasicTickFormatter\"}],\"root_ids\":[\"1644\"]},\"title\":\"Bokeh Application\",\"version\":\"1.2.0\"}};\n",
       "  var render_items = [{\"docid\":\"ea01ff96-66a4-452b-aa84-f714c17ac783\",\"roots\":{\"1644\":\"5b92c54d-31a8-4149-90d2-3e97df0a6cc7\"}}];\n",
       "  root.Bokeh.embed.embed_items_notebook(docs_json, render_items);\n",
       "\n",
       "  }\n",
       "  if (root.Bokeh !== undefined) {\n",
       "    embed_document(root);\n",
       "  } else {\n",
       "    var attempts = 0;\n",
       "    var timer = setInterval(function(root) {\n",
       "      if (root.Bokeh !== undefined) {\n",
       "        embed_document(root);\n",
       "        clearInterval(timer);\n",
       "      }\n",
       "      attempts++;\n",
       "      if (attempts > 100) {\n",
       "        console.log(\"Bokeh: ERROR: Unable to run BokehJS code because BokehJS library is missing\");\n",
       "        clearInterval(timer);\n",
       "      }\n",
       "    }, 10, root)\n",
       "  }\n",
       "})(window);"
      ],
      "application/vnd.bokehjs_exec.v0+json": ""
     },
     "metadata": {
      "application/vnd.bokehjs_exec.v0+json": {
       "id": "1644"
      }
     },
     "output_type": "display_data"
    }
   ],
   "source": [
    "p = hl.plot.histogram(mt.sample_qc.gq_stats.mean, range=(10,70), legend='Mean Sample GQ')\n",
    "show(p)"
   ]
  },
  {
   "cell_type": "code",
   "execution_count": 32,
   "metadata": {},
   "outputs": [
    {
     "data": {
      "text/html": [
       "\n",
       "\n",
       "\n",
       "\n",
       "\n",
       "\n",
       "  <div class=\"bk-root\" id=\"e42950c0-dd97-43a2-8709-e598f0e3f1c6\" data-root-id=\"1814\"></div>\n"
      ]
     },
     "metadata": {},
     "output_type": "display_data"
    },
    {
     "data": {
      "application/javascript": [
       "(function(root) {\n",
       "  function embed_document(root) {\n",
       "    \n",
       "  var docs_json = {\"83a52535-59b8-4c5a-acc5-900fcdf4bcd8\":{\"roots\":{\"references\":[{\"attributes\":{\"below\":[{\"id\":\"1824\",\"type\":\"LinearAxis\"}],\"center\":[{\"id\":\"1828\",\"type\":\"Grid\"},{\"id\":\"1833\",\"type\":\"Grid\"}],\"left\":[{\"id\":\"1829\",\"type\":\"LinearAxis\"}],\"plot_height\":800,\"plot_width\":800,\"renderers\":[{\"id\":\"1853\",\"type\":\"GlyphRenderer\"}],\"title\":null,\"toolbar\":{\"id\":\"1840\",\"type\":\"Toolbar\"},\"x_range\":{\"id\":\"1816\",\"type\":\"DataRange1d\"},\"x_scale\":{\"id\":\"1820\",\"type\":\"LinearScale\"},\"y_range\":{\"id\":\"1818\",\"type\":\"DataRange1d\"},\"y_scale\":{\"id\":\"1822\",\"type\":\"LinearScale\"}},\"id\":\"1814\",\"subtype\":\"Figure\",\"type\":\"Plot\"},{\"attributes\":{},\"id\":\"1837\",\"type\":\"SaveTool\"},{\"attributes\":{\"callback\":null,\"tooltips\":[[\"x\",\"@x\"],[\"y\",\"@y\"]]},\"id\":\"1848\",\"type\":\"HoverTool\"},{\"attributes\":{\"bottom_units\":\"screen\",\"fill_alpha\":{\"value\":0.5},\"fill_color\":{\"value\":\"lightgrey\"},\"left_units\":\"screen\",\"level\":\"overlay\",\"line_alpha\":{\"value\":1.0},\"line_color\":{\"value\":\"black\"},\"line_dash\":[4,4],\"line_width\":{\"value\":2},\"render_mode\":\"css\",\"right_units\":\"screen\",\"top_units\":\"screen\"},\"id\":\"1912\",\"type\":\"BoxAnnotation\"},{\"attributes\":{\"axis_label\":\"Call Rate\",\"formatter\":{\"id\":\"1907\",\"type\":\"BasicTickFormatter\"},\"ticker\":{\"id\":\"1830\",\"type\":\"BasicTicker\"}},\"id\":\"1829\",\"type\":\"LinearAxis\"},{\"attributes\":{},\"id\":\"1820\",\"type\":\"LinearScale\"},{\"attributes\":{},\"id\":\"1910\",\"type\":\"Selection\"},{\"attributes\":{},\"id\":\"1835\",\"type\":\"WheelZoomTool\"},{\"attributes\":{},\"id\":\"1822\",\"type\":\"LinearScale\"},{\"attributes\":{\"callback\":null,\"data\":{\"index\":[0,1,2,3,4,5,6,7,8,9,10,11,12,13,14,15,16,17,18,19,20,21,22,23,24,25,26,27,28,29,30,31,32,33,34,35,36,37,38,39,40,41,42,43,44,45,46,47,48,49,50,51,52,53,54,55,56,57,58,59,60,61,62,63,64,65,66,67,68,69,70,71,72,73,74,75,76,77,78,79,80,81,82,83,84,85,86,87,88,89,90,91,92,93,94,95,96,97,98,99,100,101,102,103,104,105,106,107,108,109,110,111,112,113,114,115,116,117,118,119,120,121,122,123,124,125,126,127,128,129,130,131,132,133,134,135,136,137,138,139,140,141,142,143,144,145,146,147,148,149,150,151,152,153,154,155,156,157,158,159,160,161,162,163,164,165,166,167,168,169,170,171,172,173,174,175,176,177,178,179,180,181,182,183,184,185,186,187,188,189,190,191,192,193,194,195,196,197,198,199,200,201,202,203,204,205,206,207,208,209,210,211,212,213,214,215,216,217,218,219,220,221,222,223,224,225,226,227,228,229,230,231,232,233,234,235,236,237,238,239,240,241,242,243,244,245,246,247,248,249,250,251,252,253,254,255,256,257,258,259,260,261,262,263,264,265,266,267,268,269,270,271,272,273,274],\"x\":{\"__ndarray__\":\"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\",\"dtype\":\"float64\",\"shape\":[275]},\"y\":{\"__ndarray__\":\"sZEC8qbU7z9QqwnCzPHvPwE9DLRzxu8/etwgsWCU7z81K+axD2DvPywzoeoi2e8/xM57W0P87z9f5G40S6zvP1ZkuNm2e+8/WmjM0NTo7z9Dr7ADwv3vP1cpNiHS6+8/ciHonefT7z/ch5coVufvP2jcs/s3M+8/HK1MneEE7z/Bj+WrQP/vP4Ify1eB/u8/XqdigNfl7z9NbHMSyvTvPylsmad4Mu8/9/fXEcQl7z8HfixfBfrvP5SXxnkCtu8/FHqFHRDu7z9aaMzQ1OjvP9UJa8lQ7e8/eRejaUUk7z81K+axD2DvP4FaTRBmju8/pJWpM5zg7z8POWVyfrrvP40Zmhr9u+8/koVZVyQs7j8b+LF8FejvP01scxLK9O8/yA0SC0b57z+CH8tXgf7vP2jcs/s3M+8/7cKGlmPY7z8aMzQ1+nfvP5nY5iSU6e8/p9Q/457d7z/LTKi6SPbvP4zcjWaJ9e8/sZEC8qbU7z+zCxtajmHvPz0RvlYeXe0/1QlryVDt7z8DP5avAv3vP2Qlj9/c3+8/k1q6xY7v7z9NbHMSyvTvP01scxLK9O8/Q6+wA8L97z+DXNcL9cTvP0OvsAPC/e8/fx1BXPLH7z/VCWvJUO3vP8TOe1tD/O8/x0iUwyqJ7z+jwEjFMR3uPx43SCwY5e8/vwXqHAof7z8idt7bGuLvP8/z6a9U9u0//v11BHHJ7z8YuRvNEuvvP2ujuz7i2e8/GLkbzRLr7z/VCWvJUO3vPyJ23tsa4u8/Az+WrwL97z+FXmEHhPvvPyn0Cjsg3O8/WaNOibl47z8KvcIOCPfvP32TRc275+4/0srUGU7w7z8J+ETH7IbvP/X1TRY17+4/L3I3miXW7z8FfKJjdsPvP8yJtG68vO8/kIPPW5X17T9OqX/GPbvvP8GP5atA/+8/eNqWtdFd7z+n1D/jnt3vP2hkJY/f3O8/pJWpM5zg7z+n1D/jnt3vP5nY5iSU6e8/AnoYaOeM7z+dF33UlubvP8GP5atA/+8/7cKGlmPY7z8ltXSLHd/vP4Ify1eB/u8//Tj4vFVZ7z8zsc1JKNPvP5nY5iSU6e8/BXyiY3bD7z+Infe2hvjvP03kAX8iS+8/eFIlIiq07j+vj3j2F57vP3pUrx256u4/lA9V5loM7z+FXmEHhPvvP4mNFJA3pe4/JvKAP5Gl7z+Infe2hvjvP40Zmhr9u+8/jNyNZon17z/kQtA7z6fvP8gNEgtG+e8/lJfGeQK27z8AAAAAAADwP6fUP+Oe3e8/zwPN1qNJ7z9QqwnCzPHvP2cXNrQcw+4/0QVX0jKA7z9uHdSmyWbvPwAAAAAAAPA/xM57W0P87z9LWgbw62ruP86LPmpL8+8/yA0SC0b57z8AeI5sWFbvPz+bueVUPe4/0MhKHr+57z/ytrdmMvLuP8TOe1tD/O8/B34sXwX67z9hXoecMjnvP9MH4c3Btu8/nzTDOmwG7T9NbHMSyvTvP9LK1BlO8O8/ciHonefT7z+5TDsFIJXvP8gNEgtG+e8/3IeXKFbn7z+LFxAfboXvP7tOxQCvy+8/xM57W0P87z86L/qoLc3vP6t7gdiq3e0/Q6+wA8L97z8hKe8AWMjuP0tq6RY7vu8/9LhBYsEo7z/fxi3YWOTvP6vzD0UDNO0/ixcQH26F7z+sUOJGFaHvP16nYoDX5e8/HjdILBjl7z+Ul8Z5ArbvP4zcjWaJ9e8/IGRxuTxY7j9R6BV2QLjvPzMpXLaAKe8/Qyc/cBpU7z8RO+9tDfHvP8iFoHeeT+8/xM57W0P87z9E7Ly3NcTvPyW1dIsd3+8/esw9ihFB7j+yzg6mGpvvP8GP5atA/+8/y0youkj27z+CH8tXgf7vP7lMOwUgle8/bODH8lWg7z8UeoUdEO7vP4zcjWaJ9e8/S8KxNfVt7D/GgxZ8DxnvP3mfFP3sze8/Az+WrwL97z+4Dy9RrM7vP2mhMUNTo+8/KC+N8wRs7z8VaqL2wJruP6GTHzgNqu8/yA0SC0b57z+PGyQWjPLvP32+5F5RJO0/GDGqOWtB7z/IDRILRvnvPy1wrZ6Wn+8/P+iowBdX7z9uDfF/ehPuP7yL0bQiku8/iRWGI99O7z/Oiz5qS/PvPyOz6o+OqO8/GLkbzRLr7z/EzntbQ/zvP2ujuz7i2e8/B34sXwX67z8AAAAAAADwP6uLZP/5MO8/tNCYoanR7z+cQhxmLCPuP8gNEgtG+e8/XqdigNfl7z9pGcCvq/nuPyoxF++Tou8/p0zOT/cz7z9VJ6wlQ7XvP3rcILFglO8/2UgBeVPq7z8urblSCmbvP86LPmpL8+8/E7UH1vR97z/+/XUEccnvP50XfdSW5u8/k1q6xY7v7z8y7E8CDWPvP7+NW7CxyO8/4XvI+CQB7z/VCWvJUO3vP0OvsAPC/e8/kpU8fnN/7z9DJz9wGlTvP+1V0W0CGOw/cB9eolid7z9LaukWO77vP6YPwpuDbe8/0MhKHr+57z8FfKJjdsPvP2/iUe7k1u8/1ETtgTV97z8m8oA/kaXvPwirVewpbe4/HDW+MImu7z9YZkLVRbLvPygvjfMEbO8/SS3dYsf37z+nTM5P9zPvP4zcjWaJ9e8/zwPN1qNJ7z/FC4gPt8LvPwAAAAAAAPA/SS3dYsf37z/Bj+WrQP/vPy6tuVIKZu8/wszxX7TF7z8UeoUdEO7vP0/mi3qxge8/jxskFozy7z/LTKi6SPbvP4Ify1eB/u8/mdjmJJTp7z/jBcSHW+HvP4raA2v6vu8//7IQJT3m7j8sM6HqItnvP4VeYQeE++8/aaExQ1Oj7z8mpZFkzovuP4id97aG+O8/7zyf/kpl7z9QqwnCzPHvP1pozNDU6O8/tg2lVR2Y7z8p9Ao7INzvPwKV1NItduw/Q6+wA8L97z8p9Ao7INzvPw==\",\"dtype\":\"float64\",\"shape\":[275]}},\"selected\":{\"id\":\"1910\",\"type\":\"Selection\"},\"selection_policy\":{\"id\":\"1911\",\"type\":\"UnionRenderers\"}},\"id\":\"1849\",\"type\":\"ColumnDataSource\"},{\"attributes\":{},\"id\":\"1838\",\"type\":\"ResetTool\"},{\"attributes\":{},\"id\":\"1911\",\"type\":\"UnionRenderers\"},{\"attributes\":{\"callback\":null},\"id\":\"1818\",\"type\":\"DataRange1d\"},{\"attributes\":{},\"id\":\"1907\",\"type\":\"BasicTickFormatter\"},{\"attributes\":{\"dimension\":1,\"ticker\":{\"id\":\"1830\",\"type\":\"BasicTicker\"}},\"id\":\"1833\",\"type\":\"Grid\"},{\"attributes\":{\"axis_label\":\"Mean DP\",\"formatter\":{\"id\":\"1909\",\"type\":\"BasicTickFormatter\"},\"ticker\":{\"id\":\"1825\",\"type\":\"BasicTicker\"}},\"id\":\"1824\",\"type\":\"LinearAxis\"},{\"attributes\":{\"fill_color\":{\"value\":\"#1f77b4\"},\"line_color\":{\"value\":\"#1f77b4\"},\"x\":{\"field\":\"x\"},\"y\":{\"field\":\"y\"}},\"id\":\"1851\",\"type\":\"Circle\"},{\"attributes\":{\"source\":{\"id\":\"1849\",\"type\":\"ColumnDataSource\"}},\"id\":\"1854\",\"type\":\"CDSView\"},{\"attributes\":{\"data_source\":{\"id\":\"1849\",\"type\":\"ColumnDataSource\"},\"glyph\":{\"id\":\"1851\",\"type\":\"Circle\"},\"hover_glyph\":null,\"muted_glyph\":null,\"nonselection_glyph\":{\"id\":\"1852\",\"type\":\"Circle\"},\"selection_glyph\":null,\"view\":{\"id\":\"1854\",\"type\":\"CDSView\"}},\"id\":\"1853\",\"type\":\"GlyphRenderer\"},{\"attributes\":{},\"id\":\"1834\",\"type\":\"PanTool\"},{\"attributes\":{},\"id\":\"1909\",\"type\":\"BasicTickFormatter\"},{\"attributes\":{\"overlay\":{\"id\":\"1912\",\"type\":\"BoxAnnotation\"}},\"id\":\"1836\",\"type\":\"BoxZoomTool\"},{\"attributes\":{},\"id\":\"1839\",\"type\":\"HelpTool\"},{\"attributes\":{},\"id\":\"1825\",\"type\":\"BasicTicker\"},{\"attributes\":{\"callback\":null},\"id\":\"1816\",\"type\":\"DataRange1d\"},{\"attributes\":{\"ticker\":{\"id\":\"1825\",\"type\":\"BasicTicker\"}},\"id\":\"1828\",\"type\":\"Grid\"},{\"attributes\":{},\"id\":\"1830\",\"type\":\"BasicTicker\"},{\"attributes\":{\"active_drag\":\"auto\",\"active_inspect\":\"auto\",\"active_multi\":null,\"active_scroll\":\"auto\",\"active_tap\":\"auto\",\"tools\":[{\"id\":\"1834\",\"type\":\"PanTool\"},{\"id\":\"1835\",\"type\":\"WheelZoomTool\"},{\"id\":\"1836\",\"type\":\"BoxZoomTool\"},{\"id\":\"1837\",\"type\":\"SaveTool\"},{\"id\":\"1838\",\"type\":\"ResetTool\"},{\"id\":\"1839\",\"type\":\"HelpTool\"},{\"id\":\"1848\",\"type\":\"HoverTool\"}]},\"id\":\"1840\",\"type\":\"Toolbar\"},{\"attributes\":{\"fill_alpha\":{\"value\":0.1},\"fill_color\":{\"value\":\"#1f77b4\"},\"line_alpha\":{\"value\":0.1},\"line_color\":{\"value\":\"#1f77b4\"},\"x\":{\"field\":\"x\"},\"y\":{\"field\":\"y\"}},\"id\":\"1852\",\"type\":\"Circle\"}],\"root_ids\":[\"1814\"]},\"title\":\"Bokeh Application\",\"version\":\"1.2.0\"}};\n",
       "  var render_items = [{\"docid\":\"83a52535-59b8-4c5a-acc5-900fcdf4bcd8\",\"roots\":{\"1814\":\"e42950c0-dd97-43a2-8709-e598f0e3f1c6\"}}];\n",
       "  root.Bokeh.embed.embed_items_notebook(docs_json, render_items);\n",
       "\n",
       "  }\n",
       "  if (root.Bokeh !== undefined) {\n",
       "    embed_document(root);\n",
       "  } else {\n",
       "    var attempts = 0;\n",
       "    var timer = setInterval(function(root) {\n",
       "      if (root.Bokeh !== undefined) {\n",
       "        embed_document(root);\n",
       "        clearInterval(timer);\n",
       "      }\n",
       "      attempts++;\n",
       "      if (attempts > 100) {\n",
       "        console.log(\"Bokeh: ERROR: Unable to run BokehJS code because BokehJS library is missing\");\n",
       "        clearInterval(timer);\n",
       "      }\n",
       "    }, 10, root)\n",
       "  }\n",
       "})(window);"
      ],
      "application/vnd.bokehjs_exec.v0+json": ""
     },
     "metadata": {
      "application/vnd.bokehjs_exec.v0+json": {
       "id": "1814"
      }
     },
     "output_type": "display_data"
    }
   ],
   "source": [
    "# Often these metrics are correlated\n",
    "p = hl.plot.scatter(mt.sample_qc.dp_stats.mean, mt.sample_qc.call_rate, xlabel='Mean DP', ylabel='Call Rate')\n",
    "show(p)"
   ]
  },
  {
   "cell_type": "markdown",
   "metadata": {},
   "source": [
    "* Removing outliers from the dataset will generally improve association results. We can make arbitrary cutoffs and use them to filter."
   ]
  },
  {
   "cell_type": "code",
   "execution_count": 33,
   "metadata": {},
   "outputs": [
    {
     "name": "stdout",
     "output_type": "stream",
     "text": [
      "After filter, 250/284 samples remain.\n"
     ]
    }
   ],
   "source": [
    "mt = mt.filter_cols((mt.sample_qc.dp_stats.mean >= 4) & (mt.sample_qc.call_rate >= 0.97))\n",
    "print('After filter, %d/284 samples remain.' % mt.count_cols())"
   ]
  },
  {
   "cell_type": "markdown",
   "metadata": {},
   "source": [
    "* enotype QC:\n",
    "    * filter out genotypes where the reads aren’t where they should be: if we find a genotype called homozygous reference with >10% alternate reads, a genotype called homozygous alternate with >10% reference reads, or a genotype called heterozygote without a ref / alt balance near 1:1, it is likely to be an error.\n",
    "* In a low-depth dataset like 1KG, it is hard to detect bad genotypes using this metric, since a read ratio of 1 alt to 10 reference can easily be explained by binomial sampling. However, in a high-depth dataset, a read ratio of 10:100 is a sure cause for concern!"
   ]
  },
  {
   "cell_type": "code",
   "execution_count": 34,
   "metadata": {},
   "outputs": [
    {
     "name": "stdout",
     "output_type": "stream",
     "text": [
      "Filtering 3.64% entries out of downstream analysis.\n"
     ]
    }
   ],
   "source": [
    "ab = mt.AD[1] / hl.sum(mt.AD)\n",
    "\n",
    "filter_condition_ab = ((mt.GT.is_hom_ref() & (ab <= 0.1)) |\n",
    "                        (mt.GT.is_het() & (ab >= 0.25) & (ab <= 0.75)) |\n",
    "                        (mt.GT.is_hom_var() & (ab >= 0.9)))\n",
    "\n",
    "fraction_filtered = mt.aggregate_entries(hl.agg.fraction(~filter_condition_ab))\n",
    "print(f'Filtering {fraction_filtered * 100:.2f}% entries out of downstream analysis.')\n",
    "mt = mt.filter_entries(filter_condition_ab)"
   ]
  },
  {
   "cell_type": "code",
   "execution_count": 35,
   "metadata": {},
   "outputs": [
    {
     "name": "stdout",
     "output_type": "stream",
     "text": [
      "--------------------------------------------------------\n",
      "Type:\n",
      "        struct {\n",
      "        locus: locus<GRCh37>, \n",
      "        alleles: array<str>, \n",
      "        rsid: str, \n",
      "        qual: float64, \n",
      "        filters: set<str>, \n",
      "        info: struct {\n",
      "            AC: array<int32>, \n",
      "            AF: array<float64>, \n",
      "            AN: int32, \n",
      "            BaseQRankSum: float64, \n",
      "            ClippingRankSum: float64, \n",
      "            DP: int32, \n",
      "            DS: bool, \n",
      "            FS: float64, \n",
      "            HaplotypeScore: float64, \n",
      "            InbreedingCoeff: float64, \n",
      "            MLEAC: array<int32>, \n",
      "            MLEAF: array<float64>, \n",
      "            MQ: float64, \n",
      "            MQ0: int32, \n",
      "            MQRankSum: float64, \n",
      "            QD: float64, \n",
      "            ReadPosRankSum: float64, \n",
      "            set: str\n",
      "        }, \n",
      "        variant_qc: struct {\n",
      "            dp_stats: struct {\n",
      "                mean: float64, \n",
      "                stdev: float64, \n",
      "                min: float64, \n",
      "                max: float64\n",
      "            }, \n",
      "            gq_stats: struct {\n",
      "                mean: float64, \n",
      "                stdev: float64, \n",
      "                min: float64, \n",
      "                max: float64\n",
      "            }, \n",
      "            AC: array<int32>, \n",
      "            AF: array<float64>, \n",
      "            AN: int32, \n",
      "            homozygote_count: array<int32>, \n",
      "            call_rate: float64, \n",
      "            n_called: int64, \n",
      "            n_not_called: int64, \n",
      "            n_filtered: int64, \n",
      "            n_het: int64, \n",
      "            n_non_ref: int64, \n",
      "            het_freq_hwe: float64, \n",
      "            p_value_hwe: float64\n",
      "        }\n",
      "    }\n",
      "--------------------------------------------------------\n",
      "Source:\n",
      "    <hail.matrixtable.MatrixTable object at 0x12b6a9e90>\n",
      "Index:\n",
      "    ['row']\n",
      "--------------------------------------------------------\n"
     ]
    }
   ],
   "source": [
    "mt = hl.variant_qc(mt)\n",
    "mt.row.describe()"
   ]
  },
  {
   "cell_type": "markdown",
   "metadata": {},
   "source": [
    "* These statistics look good: no need to filter this dataset. Most datasets require thoughtful quality control, though. The `filter_rows` method can help."
   ]
  },
  {
   "cell_type": "markdown",
   "metadata": {},
   "source": []
  },
  {
   "cell_type": "code",
   "execution_count": null,
   "metadata": {},
   "outputs": [],
   "source": []
  },
  {
   "cell_type": "code",
   "execution_count": null,
   "metadata": {},
   "outputs": [],
   "source": []
  },
  {
   "cell_type": "code",
   "execution_count": null,
   "metadata": {},
   "outputs": [],
   "source": []
  }
 ],
 "metadata": {
  "kernelspec": {
   "display_name": "Python 3",
   "language": "python",
   "name": "python3"
  },
  "language_info": {
   "codemirror_mode": {
    "name": "ipython",
    "version": 3
   },
   "file_extension": ".py",
   "mimetype": "text/x-python",
   "name": "python",
   "nbconvert_exporter": "python",
   "pygments_lexer": "ipython3",
   "version": "3.7.4"
  }
 },
 "nbformat": 4,
 "nbformat_minor": 2
}
